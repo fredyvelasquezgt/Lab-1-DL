{
 "cells": [
  {
   "cell_type": "markdown",
   "source": [
    "# Laboratorio 1\n",
    "\n",
    "Bienvenidos al primer laboratorio de Deep Learning y Sistemas Inteligentes. \n",
    "Espero que este laboratorio les sirva para consolidar sus conocimientos de las primeras dos semanas. \n",
    "\n",
    "Este laboratorio consta de dos partes. En la primera trabajaremos una Regresión Logística con un acercamiento más a una Red Neuronal. En la segunda fase, usaremos PyTorch para crear un modelo similar pero ya usando las herramientas de Deep Learning aunque aún implementando algunos pasos \"a mano\".\n",
    "\n",
    "Para este laboratorio estaremos usando una herramienta para Jupyter Notebooks que facilitará la calificación, no solo asegurándo que ustedes tengan una nota pronto sino también mostrandoles su nota final al terminar el laboratorio.\n",
    "\n",
    "Por favor noten que es primera vez que uso este acercamiento para laboratorios por ende, pido su compresión y colaboración si algo no funciona como debería. Ayúdenme a mejorarlo para las proximas iteraciones."
   ],
   "metadata": {
    "deletable": false,
    "editable": false,
    "nbgrader": {
     "cell_type": "markdown",
     "checksum": "f54c12863d05d5ade7025efa16a8ffa4",
     "grade": false,
     "grade_id": "cell-f284b5366f0ad7b4",
     "locked": true,
     "schema_version": 3,
     "solution": false,
     "task": false
    }
   }
  },
  {
   "cell_type": "markdown",
   "source": [],
   "metadata": {}
  },
  {
   "cell_type": "markdown",
   "source": [
    "## Antes de Empezar\n",
    "Por favor actualicen o instalen la siguiente librería que sirve para visualizaciones de la calificacion, además de otras herramientas para calificar mejor las diferentes tareas.\n",
    "Pueden correr el comando mostrado abajo (quitando el signo de comentario) y luego reiniciar el kernel (sin antes volver a comentar la linea), o bien, pueden hacerlo sdesde una cmd del ambiente de Anaconda\n",
    "\n",
    "##### Creditos:\n",
    "Esta herramienta pertence a sus autores, Dr John Williamson et al."
   ],
   "metadata": {
    "deletable": false,
    "editable": false,
    "nbgrader": {
     "cell_type": "markdown",
     "checksum": "12897a358201498039e1a6a6cff3fb86",
     "grade": false,
     "grade_id": "cell-fc7468c5d342067b",
     "locked": true,
     "schema_version": 3,
     "solution": false,
     "task": false
    }
   }
  },
  {
   "cell_type": "code",
   "execution_count": null,
   "source": [
    "pip install -U --force-reinstall --no-cache https://github.com/johnhw/jhwutils/zipball/master"
   ],
   "outputs": [
    {
     "output_type": "stream",
     "name": "stdout",
     "text": [
      "Collecting https://github.com/johnhw/jhwutils/zipball/master\n",
      "  Downloading https://github.com/johnhw/jhwutils/zipball/master\n",
      "\u001b[2K     \u001b[32m\\\u001b[0m \u001b[32m38.1 kB\u001b[0m \u001b[31m309.8 kB/s\u001b[0m \u001b[33m0:00:00\u001b[0m\n",
      "\u001b[?25h  Preparing metadata (setup.py) ... \u001b[?25ldone\n",
      "\u001b[?25hBuilding wheels for collected packages: jhwutils\n",
      "  Building wheel for jhwutils (setup.py) ... \u001b[?25ldone\n",
      "\u001b[?25h  Created wheel for jhwutils: filename=jhwutils-1.0-py3-none-any.whl size=33801 sha256=78151ac1a9f03b52b8e6f89b9b58093ae01cf1465a3c8faef8b7112ca82e54af\n",
      "  Stored in directory: /private/var/folders/h4/rlgjjv6s50z2sflx2_9bt49h0000gn/T/pip-ephem-wheel-cache-k5hmws_r/wheels/27/3c/cb/eb7b3c6ea36b5b54e5746751443be9bb0d73352919033558a2\n",
      "Successfully built jhwutils\n",
      "Installing collected packages: jhwutils\n",
      "Successfully installed jhwutils-1.0\n",
      "Note: you may need to restart the kernel to use updated packages.\n"
     ]
    }
   ],
   "metadata": {
    "ExecuteTime": {
     "end_time": "2023-07-17T05:54:04.525917Z",
     "start_time": "2023-07-17T05:54:04.511956Z"
    }
   }
  },
  {
   "cell_type": "markdown",
   "source": [
    "La librería previamente instalada también tiene una dependencia, por lo que necesitarán instalarla."
   ],
   "metadata": {
    "deletable": false,
    "editable": false,
    "nbgrader": {
     "cell_type": "markdown",
     "checksum": "2c50fe4479f26beaf7b22dffbfda141d",
     "grade": false,
     "grade_id": "cell-cf32c665cecd1e97",
     "locked": true,
     "schema_version": 3,
     "solution": false,
     "task": false
    }
   }
  },
  {
   "cell_type": "code",
   "execution_count": 3,
   "source": [
    "pip install scikit-image"
   ],
   "outputs": [
    {
     "output_type": "stream",
     "name": "stdout",
     "text": [
      "Requirement already satisfied: scikit-image in /Users/fredyvelasquez/anaconda3/lib/python3.10/site-packages (0.19.3)\n",
      "Requirement already satisfied: PyWavelets>=1.1.1 in /Users/fredyvelasquez/anaconda3/lib/python3.10/site-packages (from scikit-image) (1.4.1)\n",
      "Requirement already satisfied: packaging>=20.0 in /Users/fredyvelasquez/anaconda3/lib/python3.10/site-packages (from scikit-image) (22.0)\n",
      "Requirement already satisfied: scipy>=1.4.1 in /Users/fredyvelasquez/anaconda3/lib/python3.10/site-packages (from scikit-image) (1.10.0)\n",
      "Requirement already satisfied: numpy>=1.17.0 in /Users/fredyvelasquez/anaconda3/lib/python3.10/site-packages (from scikit-image) (1.23.5)\n",
      "Requirement already satisfied: tifffile>=2019.7.26 in /Users/fredyvelasquez/anaconda3/lib/python3.10/site-packages (from scikit-image) (2021.7.2)\n",
      "Requirement already satisfied: imageio>=2.4.1 in /Users/fredyvelasquez/anaconda3/lib/python3.10/site-packages (from scikit-image) (2.26.0)\n",
      "Requirement already satisfied: pillow!=7.1.0,!=7.1.1,!=8.3.0,>=6.1.0 in /Users/fredyvelasquez/anaconda3/lib/python3.10/site-packages (from scikit-image) (9.4.0)\n",
      "Requirement already satisfied: networkx>=2.2 in /Users/fredyvelasquez/anaconda3/lib/python3.10/site-packages (from scikit-image) (2.8.4)\n",
      "Note: you may need to restart the kernel to use updated packages.\n"
     ]
    }
   ],
   "metadata": {
    "ExecuteTime": {
     "end_time": "2023-07-17T05:54:04.541876Z",
     "start_time": "2023-07-17T05:54:04.526916Z"
    }
   }
  },
  {
   "cell_type": "code",
   "execution_count": 2,
   "source": [
    "import numpy as np\n",
    "import copy\n",
    "import matplotlib.pyplot as plt\n",
    "import scipy\n",
    "from PIL import Image\n",
    "import os\n",
    "\n",
    "# Other imports\n",
    "from unittest.mock import patch\n",
    "from uuid import getnode as get_mac\n",
    "\n",
    "from jhwutils.checkarr import array_hash, check_hash, check_scalar, check_string\n",
    "import jhwutils.image_audio as ia\n",
    "import jhwutils.tick as tick\n",
    "\n",
    "###\n",
    "tick.reset_marks()\n",
    "\n",
    "%matplotlib inline"
   ],
   "outputs": [],
   "metadata": {
    "ExecuteTime": {
     "end_time": "2023-07-17T05:54:05.629797Z",
     "start_time": "2023-07-17T05:54:04.543767Z"
    },
    "deletable": false,
    "editable": false,
    "nbgrader": {
     "cell_type": "code",
     "checksum": "43c5fdde8ac58326caffb558a292e5db",
     "grade": false,
     "grade_id": "cell-e565241ad66f8705",
     "locked": true,
     "schema_version": 3,
     "solution": false,
     "task": false
    }
   }
  },
  {
   "cell_type": "code",
   "execution_count": null,
   "source": [
    "# Hidden cell for utils needed when grading (you can/should not edit this)\n",
    "# Celda escondida para utlidades necesarias, por favor NO edite esta celda\n"
   ],
   "outputs": [],
   "metadata": {
    "ExecuteTime": {
     "end_time": "2023-07-17T05:54:05.645552Z",
     "start_time": "2023-07-17T05:54:05.633377Z"
    },
    "deletable": false,
    "editable": false,
    "nbgrader": {
     "cell_type": "code",
     "checksum": "40ca8bf9c630579c0d62a3f84416180a",
     "grade": true,
     "grade_id": "cell-8a38779c0bcab3ed",
     "locked": true,
     "points": 0,
     "schema_version": 3,
     "solution": false,
     "task": false
    }
   }
  },
  {
   "cell_type": "markdown",
   "source": [
    "###### Información del estudiante en dos variables\n",
    "\n",
    "* carne : un string con su carne (e.g. \"12281\"), debe ser de al menos 5 caracteres.\n",
    "* firma_mecanografiada: un string con su nombre (e.g. \"Albero Suriano\") que se usará para la declaracion que este trabajo es propio (es decir, no hay plagio)"
   ],
   "metadata": {}
  },
  {
   "cell_type": "code",
   "execution_count": 3,
   "source": [
    "carne = \"201011\"\n",
    "firma_mecanografiada = \"Fredy Velasquez\"\n"
   ],
   "outputs": [],
   "metadata": {
    "ExecuteTime": {
     "end_time": "2023-07-17T05:54:05.660967Z",
     "start_time": "2023-07-17T05:54:05.651506Z"
    },
    "deletable": false,
    "nbgrader": {
     "cell_type": "code",
     "checksum": "c885d7bb94f6793a2b7ed63d3ed5ce70",
     "grade": false,
     "grade_id": "cell-1246e8ca70895ff3",
     "locked": false,
     "schema_version": 3,
     "solution": true,
     "task": false
    }
   }
  },
  {
   "cell_type": "code",
   "execution_count": 4,
   "source": [
    "# Deberia poder ver dos checkmarks verdes [0 marks], que indican que su información básica está OK \n",
    "\n",
    "with tick.marks(0): \n",
    "    assert(len(carne)>=5)\n",
    "\n",
    "with tick.marks(0):  \n",
    "    assert(len(firma_mecanografiada)>0)"
   ],
   "outputs": [
    {
     "output_type": "display_data",
     "data": {
      "text/plain": [
       "<IPython.core.display.HTML object>"
      ],
      "text/html": [
       "\n",
       "        <div class=\"alert alert-box alert-success\">\n",
       "        <h1> <!--{id:\"CORRECTMARK\", marks:\"0\"}--> \n",
       "         ✓ [0 marks] \n",
       "         </h1> </div>"
      ]
     },
     "metadata": {}
    },
    {
     "output_type": "display_data",
     "data": {
      "text/plain": [
       "<IPython.core.display.HTML object>"
      ],
      "text/html": [
       "\n",
       "        <div class=\"alert alert-box alert-success\">\n",
       "        <h1> <!--{id:\"CORRECTMARK\", marks:\"0\"}--> \n",
       "         ✓ [0 marks] \n",
       "         </h1> </div>"
      ]
     },
     "metadata": {}
    }
   ],
   "metadata": {
    "ExecuteTime": {
     "end_time": "2023-07-17T05:54:05.676006Z",
     "start_time": "2023-07-17T05:54:05.662003Z"
    },
    "deletable": false,
    "editable": false,
    "nbgrader": {
     "cell_type": "code",
     "checksum": "a929af9d298972b113cb3465e9c19fff",
     "grade": true,
     "grade_id": "cell-8dfd0bfb302a67a4",
     "locked": true,
     "points": 0,
     "schema_version": 3,
     "solution": false,
     "task": false
    }
   }
  },
  {
   "cell_type": "markdown",
   "source": [
    "#### Dataset a Utilizar\n",
    "\n",
    "Para este laboratorio estaremos usando el dataset de Kaggle llamado [Cats and Dogs image classification](https://www.kaggle.com/datasets/samuelcortinhas/cats-and-dogs-image-classification).\n",
    "Por favor, descarguenlo y ponganlo en una carpeta/folder de su computadora local."
   ],
   "metadata": {
    "deletable": false,
    "editable": false,
    "nbgrader": {
     "cell_type": "markdown",
     "checksum": "5e363522c3a3b3f9b1aa9ff6bc7aa356",
     "grade": false,
     "grade_id": "cell-26f24e988c53220f",
     "locked": true,
     "schema_version": 3,
     "solution": false,
     "task": false
    }
   }
  },
  {
   "cell_type": "markdown",
   "source": [
    "## Parte 1 - Regresión Logística como Red Neuronal\n",
    "\n",
    "**Créditos:** La primera parte de este laboratorio está tomado y basado en uno de los laboratorios dados dentro del curso de \"Neural Networks and Deep Learning\" de Andrew Ng"
   ],
   "metadata": {
    "deletable": false,
    "editable": false,
    "nbgrader": {
     "cell_type": "markdown",
     "checksum": "4ec134305bbd130d7e142f0bdfa2d8df",
     "grade": false,
     "grade_id": "cell-03e75b0f1db6d370",
     "locked": true,
     "schema_version": 3,
     "solution": false,
     "task": false
    }
   }
  },
  {
   "cell_type": "code",
   "execution_count": 3,
   "source": [
    "# Por favor cambien esta ruta a la que corresponda en sus maquinas\n",
    "data_dir = './Images/'\n",
    "\n",
    "train_images = []\n",
    "train_labels = []\n",
    "test_images = []\n",
    "test_labels = []\n",
    "\n",
    "def read_images(folder_path, label, target_size, color_mode='RGB'):\n",
    "    for filename in os.listdir(folder_path):\n",
    "        image_path = os.path.join(folder_path, filename)\n",
    "        # Use PIL to open the image\n",
    "        image = Image.open(image_path)\n",
    "        \n",
    "        # Convert to a specific color mode (e.g., 'RGB' or 'L' for grayscale)\n",
    "        image = image.convert(color_mode)\n",
    "        \n",
    "        # Resize the image to the target size\n",
    "        image = image.resize(target_size)\n",
    "\n",
    "        # Convert the image to a numpy array and add it to the appropriate list\n",
    "        if label == \"cats\":\n",
    "            if 'train' in folder_path:\n",
    "                train_images.append(np.array(image))\n",
    "                train_labels.append(0)  # Assuming 0 represents cats\n",
    "            else:\n",
    "                test_images.append(np.array(image))\n",
    "                test_labels.append(0)  # Assuming 0 represents cats\n",
    "        elif label == \"dogs\":\n",
    "            if 'train' in folder_path:\n",
    "                train_images.append(np.array(image))\n",
    "                train_labels.append(1)  # Assuming 1 represents dogs\n",
    "            else:\n",
    "                test_images.append(np.array(image))\n",
    "                test_labels.append(1)  # Assuming 1 represents dogs\n",
    "# Call the function for both the 'train' and 'test' folders\n",
    "train_cats_path = os.path.join(data_dir, 'train', 'cats')\n",
    "train_dogs_path = os.path.join(data_dir, 'train', 'dogs')\n",
    "test_cats_path = os.path.join(data_dir, 'test', 'cats')\n",
    "test_dogs_path = os.path.join(data_dir, 'test', 'dogs')\n",
    "\n",
    "\n",
    "# Read images\n",
    "target_size = (64, 64)\n",
    "read_images(train_cats_path, \"cats\", target_size)\n",
    "read_images(train_dogs_path, \"dogs\", target_size)\n",
    "read_images(test_cats_path, \"cats\", target_size)\n",
    "read_images(test_dogs_path, \"dogs\", target_size)"
   ],
   "outputs": [],
   "metadata": {
    "ExecuteTime": {
     "end_time": "2023-07-17T05:54:10.793007Z",
     "start_time": "2023-07-17T05:54:05.677003Z"
    },
    "deletable": false,
    "editable": false,
    "nbgrader": {
     "cell_type": "code",
     "checksum": "86de7c234f293db8d5bdcf206a2957d5",
     "grade": false,
     "grade_id": "cell-18e91a6f5fa731fb",
     "locked": true,
     "schema_version": 3,
     "solution": false,
     "task": false
    }
   }
  },
  {
   "cell_type": "code",
   "execution_count": 4,
   "source": [
    "# Convert the lists to numpy arrays\n",
    "train_images = np.array(train_images)\n",
    "train_labels = np.array(train_labels)\n",
    "test_images = np.array(test_images)\n",
    "test_labels = np.array(test_labels)\n",
    "\n",
    "# Reshape the labels\n",
    "train_labels = train_labels.reshape((1, len(train_labels)))\n",
    "test_labels = test_labels.reshape((1, len(test_labels)))"
   ],
   "outputs": [],
   "metadata": {
    "ExecuteTime": {
     "end_time": "2023-07-17T05:54:10.808858Z",
     "start_time": "2023-07-17T05:54:10.794803Z"
    }
   }
  },
  {
   "cell_type": "code",
   "execution_count": 5,
   "source": [
    "# Ejemplo de una imagen\n",
    "index = 25\n",
    "plt.imshow(train_images[index])\n",
    "print (\"y = \" + str(train_labels[0][index]) + \", es una imagen de un \" + 'gato' if train_labels[0][index]==0 else 'perro' +  \"'.\")"
   ],
   "outputs": [
    {
     "output_type": "stream",
     "name": "stdout",
     "text": [
      "y = 0, es una imagen de un gato\n"
     ]
    },
    {
     "output_type": "display_data",
     "data": {
      "text/plain": [
       "<Figure size 640x480 with 1 Axes>"
      ],
      "image/png": "[encoded data removed]"
     },
     "metadata": {}
    }
   ],
   "metadata": {
    "ExecuteTime": {
     "end_time": "2023-07-17T05:54:10.966964Z",
     "start_time": "2023-07-17T05:54:10.810722Z"
    },
    "deletable": false,
    "editable": false,
    "nbgrader": {
     "cell_type": "code",
     "checksum": "1f2670451cdd50c310706ca8ef7972b5",
     "grade": false,
     "grade_id": "cell-4b3d991a4904d924",
     "locked": true,
     "schema_version": 3,
     "solution": false,
     "task": false
    }
   }
  },
  {
   "cell_type": "markdown",
   "source": [
    "### Ejercicio 1\n",
    "Para este primer ejercicio, empezaremos con algo súper sencillo, lo cual será soalmente encontrar los valores de las dimensiones de los vectores con los que estamos trabajando\n",
    " * m_train: número de ejemplos de entrenamiento\n",
    " * m_test: número de ejemplos de testing\n",
    " * num_px: Alto y ancho de las imagenes"
   ],
   "metadata": {
    "deletable": false,
    "editable": false,
    "nbgrader": {
     "cell_type": "markdown",
     "checksum": "c6790081d218f26f7b8e4b672c9f41b9",
     "grade": false,
     "grade_id": "cell-07b3f1a61fa8e4a8",
     "locked": true,
     "schema_version": 3,
     "solution": false,
     "task": false
    }
   }
  },
  {
   "cell_type": "code",
   "execution_count": 7,
   "source": [
    "#(Aproximadamente, 3 líneas de código)\n",
    "#Calculamos el número de entramientos\n",
    "m_train = 0\n",
    "m_test = 0\n",
    "num_px = 64\n",
    "\n",
    "for root, dirs, files in os.walk(\"./Images/test/\"):\n",
    "   #Comparamos si se encuentra cats o dogs\n",
    "   if \"cats\" in root or \"dogs\" in root:\n",
    "      m_test+=len(files)\n",
    "\n",
    "#Ahora hacemos lo mismo pero con train\n",
    "for root, dirs, files in os.walk(\"./Images/train/\"):\n",
    "   #Comparamos si se encuentra cats o dogs\n",
    "   if \"cats\" in root or \"dogs\" in root:\n",
    "      m_train+=len(files)\n",
    "\n",
    "print (\"Número de datos en entrenamiento: m_train = \" + str(m_train))\n",
    "print (\"Número de datos en testing: m_test = \" + str(m_test))\n",
    "print (\"Alto y ancho de cada imagen: num_px = \" + str(num_px))\n",
    "print (\"Cada imagen tiene un tamañado de: (\" + str(num_px) + \", \" + str(num_px) + \", 3)\")\n",
    "print (\"train_images shape: \" + str(train_images.shape))\n",
    "print (\"train_labels shape: \" + str(train_labels.shape))\n",
    "print (\"test_images shape: \" + str(test_images.shape))\n",
    "print (\"test_labels shape: \" + str(test_labels.shape))"
   ],
   "outputs": [
    {
     "output_type": "stream",
     "name": "stdout",
     "text": [
      "Número de datos en entrenamiento: m_train = 557\n",
      "Número de datos en testing: m_test = 140\n",
      "Alto y ancho de cada imagen: num_px = 64\n",
      "Cada imagen tiene un tamañado de: (64, 64, 3)\n",
      "train_images shape: (557, 64, 64, 3)\n",
      "train_labels shape: (1, 557)\n",
      "test_images shape: (140, 64, 64, 3)\n",
      "test_labels shape: (1, 140)\n"
     ]
    }
   ],
   "metadata": {
    "ExecuteTime": {
     "end_time": "2023-07-17T05:54:10.982126Z",
     "start_time": "2023-07-17T05:54:10.968992Z"
    },
    "deletable": false,
    "nbgrader": {
     "cell_type": "code",
     "checksum": "76f91048a9c519d0a0e9d132a4c11ff3",
     "grade": false,
     "grade_id": "cell-4e0a90ac2a6c3fdb",
     "locked": false,
     "schema_version": 3,
     "solution": true,
     "task": false
    }
   }
  },
  {
   "cell_type": "code",
   "execution_count": 8,
   "source": [
    "with tick.marks(2):\n",
    "    assert m_train == 557\n",
    "with tick.marks(2):\n",
    "    assert m_test == 140\n",
    "with tick.marks(1):\n",
    "    assert num_px == 64"
   ],
   "outputs": [
    {
     "output_type": "display_data",
     "data": {
      "text/plain": [
       "<IPython.core.display.HTML object>"
      ],
      "text/html": [
       "\n",
       "        <div class=\"alert alert-box alert-success\">\n",
       "        <h1> <!--{id:\"CORRECTMARK\", marks:\"2\"}--> \n",
       "         ✓ [2 marks] \n",
       "         </h1> </div>"
      ]
     },
     "metadata": {}
    },
    {
     "output_type": "display_data",
     "data": {
      "text/plain": [
       "<IPython.core.display.HTML object>"
      ],
      "text/html": [
       "\n",
       "        <div class=\"alert alert-box alert-success\">\n",
       "        <h1> <!--{id:\"CORRECTMARK\", marks:\"2\"}--> \n",
       "         ✓ [2 marks] \n",
       "         </h1> </div>"
      ]
     },
     "metadata": {}
    },
    {
     "output_type": "display_data",
     "data": {
      "text/plain": [
       "<IPython.core.display.HTML object>"
      ],
      "text/html": [
       "\n",
       "        <div class=\"alert alert-box alert-success\">\n",
       "        <h1> <!--{id:\"CORRECTMARK\", marks:\"1\"}--> \n",
       "         ✓ [1 marks] \n",
       "         </h1> </div>"
      ]
     },
     "metadata": {}
    }
   ],
   "metadata": {
    "ExecuteTime": {
     "end_time": "2023-07-17T05:54:10.997865Z",
     "start_time": "2023-07-17T05:54:10.983820Z"
    },
    "deletable": false,
    "editable": false,
    "nbgrader": {
     "cell_type": "code",
     "checksum": "5096090ab4671b267199deaf5812a940",
     "grade": true,
     "grade_id": "cell-21348a11fe53bc1e",
     "locked": true,
     "points": 5,
     "schema_version": 3,
     "solution": false,
     "task": false
    }
   }
  },
  {
   "cell_type": "markdown",
   "source": [
    "### Ejercicio 2\n",
    " \n",
    " Para conveniencia, deberán cambiar la forma (reshape) de las imagenes (num_px, num_px, 3) en cada numpy-array a una forma de (num_px $*$ num_px $*$ 3, 1). De esta manera, tanto el training como testing dataset sera un numpy-array donde cada columna representa una imagen \"aplanada\". Deberán haber m_train y m_test columnas\n",
    " \n",
    "\n",
    "Entonces, para este ejercicio deben cambiar la forma (reshape) de tanto el dataset de entrenamiento como el de pruebas (training y testing) de esa forma, obtener un vector de la forma mencionada anteriormente (num\\_px $*$ num\\_px $*$ 3, 1)\n",
    "\n",
    "Una forma de poder \"aplanar\" una matriz de forma (a,b,c,d) a una matriz de de forma (b$*$c$*$d, a), es usar el método \"reshape\" y luego obtener la transpuesta\n",
    "\n",
    "```python\n",
    "X_flatten = X.reshape(X.shape[0], -1).T      # X.T es la transpuesta de X\n",
    "```"
   ],
   "metadata": {
    "deletable": false,
    "editable": false,
    "nbgrader": {
     "cell_type": "markdown",
     "checksum": "53b14e24e1f2175f40291a4842ecbcbe",
     "grade": false,
     "grade_id": "cell-bd11db2dab077a99",
     "locked": true,
     "schema_version": 3,
     "solution": false,
     "task": false
    }
   }
  },
  {
   "cell_type": "code",
   "execution_count": 9,
   "source": [
    "# Aplanar el dataset de entrenamiento\n",
    "train_images_flatten = train_images.reshape(train_images.shape[0], -1).T\n",
    "\n",
    "# Aplanar el dataset de pruebas\n",
    "test_images_flatten = test_images.reshape(test_images.shape[0], -1).T\n",
    "\n",
    "print(\"train_images_flatten shape:\", train_images_flatten.shape)\n",
    "print(\"train_labels shape:\", train_labels.shape)\n",
    "print(\"test_images_flatten shape:\", test_images_flatten.shape)\n",
    "print(\"test_labels shape:\", test_labels.shape)"
   ],
   "outputs": [
    {
     "output_type": "stream",
     "name": "stdout",
     "text": [
      "train_images_flatten shape: (12288, 557)\n",
      "train_labels shape: (1, 557)\n",
      "test_images_flatten shape: (12288, 140)\n",
      "test_labels shape: (1, 140)\n"
     ]
    }
   ],
   "metadata": {
    "ExecuteTime": {
     "end_time": "2023-07-17T05:54:11.012852Z",
     "start_time": "2023-07-17T05:54:11.000904Z"
    },
    "deletable": false,
    "nbgrader": {
     "cell_type": "code",
     "checksum": "11c480f908daf9f56f76a9014074a503",
     "grade": false,
     "grade_id": "cell-5b2affbf8fc173eb",
     "locked": false,
     "schema_version": 3,
     "solution": true,
     "task": false
    }
   }
  },
  {
   "cell_type": "code",
   "execution_count": null,
   "source": [
    "\n",
    "\n",
    "# Test escondido para revisar algunos pixeles de las imagenes en el array aplanado \n",
    "# Tanto en training [3 marks]\n",
    "# Como en test [2 marks]"
   ],
   "outputs": [],
   "metadata": {
    "ExecuteTime": {
     "end_time": "2023-07-17T05:54:11.028777Z",
     "start_time": "2023-07-17T05:54:11.016810Z"
    },
    "deletable": false,
    "editable": false,
    "nbgrader": {
     "cell_type": "code",
     "checksum": "6bb05df7b9e87acf4ab4feb61625832a",
     "grade": true,
     "grade_id": "cell-cfd337766b4a3c86",
     "locked": true,
     "points": 5,
     "schema_version": 3,
     "solution": false,
     "task": false
    }
   }
  },
  {
   "cell_type": "markdown",
   "source": [
    "Para representar el color de las imagenes (rojo, verde y azul - RGB) los canales deben ser específicados para cada pixel, y cada valor de pixel es de hecho un vector de tres números entre 0 y 255.\n",
    "\n",
    "Una forma muy comun de preprocesar en ML es el centrar y estandarizar el dataset, es decir que se necesita restar la media de todo el array para cada ejemplo, y luego dividir cada observacion por la desviación estándar de todo el numpy array. Pero para dataset de imagenes, es más simple y más conveniente además que funciona tan bien, el solo dividir cada fila del dataset por 255 (el máximo del valor de pixeles posible.\n",
    "\n",
    "Por ello, ahora estandarizaremos el dataset\n"
   ],
   "metadata": {
    "deletable": false,
    "editable": false,
    "nbgrader": {
     "cell_type": "markdown",
     "checksum": "b7bc70ff79a246996b2cf358dadbd3ec",
     "grade": false,
     "grade_id": "cell-cb14a8a48c39ca45",
     "locked": true,
     "schema_version": 3,
     "solution": false,
     "task": false
    }
   }
  },
  {
   "cell_type": "code",
   "execution_count": 11,
   "source": [
    "train_set_x = train_images_flatten / 255.\n",
    "test_set_x = test_images_flatten / 255.\n",
    "\n",
    "train_set_x\n",
    "test_set_x"
   ],
   "outputs": [
    {
     "output_type": "execute_result",
     "data": {
      "text/plain": [
       "array([[0.80784314, 0.0627451 , 0.31764706, ..., 0.05490196, 0.38039216,\n",
       "        0.58039216],\n",
       "       [0.78431373, 0.04705882, 0.19215686, ..., 0.04705882, 0.38823529,\n",
       "        0.54509804],\n",
       "       [0.78431373, 0.04313725, 0.18431373, ..., 0.03529412, 0.37254902,\n",
       "        0.5254902 ],\n",
       "       ...,\n",
       "       [0.78431373, 0.14117647, 0.99607843, ..., 0.54901961, 0.56862745,\n",
       "        0.5254902 ],\n",
       "       [0.6745098 , 0.04313725, 0.99215686, ..., 0.54901961, 0.48235294,\n",
       "        0.48627451],\n",
       "       [0.61960784, 0.04313725, 0.99215686, ..., 0.56078431, 0.41960784,\n",
       "        0.24313725]])"
      ]
     },
     "metadata": {},
     "execution_count": 11
    }
   ],
   "metadata": {
    "ExecuteTime": {
     "end_time": "2023-07-17T05:54:11.060556Z",
     "start_time": "2023-07-17T05:54:11.030772Z"
    },
    "deletable": false,
    "editable": false,
    "nbgrader": {
     "cell_type": "code",
     "checksum": "efcfa0e9a7c9e565e1a77acb929ca3d1",
     "grade": false,
     "grade_id": "cell-e2fa8be19903fdf1",
     "locked": true,
     "schema_version": 3,
     "solution": false,
     "task": false
    }
   }
  },
  {
   "cell_type": "markdown",
   "source": [
    "### Arquitectura General\n",
    "Ahora empezaremos a construir un algoritmo que nos permita diferenciar perros de gatos.\n",
    "\n",
    "Para esto estaremos construyendo una Regresión Logística, usando un pensamiento de una Red Neuronal. Si se observa la siguiente imagen, se puede apreciar porque hemos dicho que la **Regresión Logística es de hecho una Red Neuronal bastante simple.** \n",
    "\n",
    "Recordemos la expresión matematica vista en clase.\n",
    "\n",
    "Por ejemplo para una observación $x^{(i)}$:\n",
    "$$z^{(i)} = w^T x^{(i)} + b \\tag{1}$$\n",
    "$$\\hat{y}^{(i)} = a^{(i)} = sigmoid(z^{(i)})\\tag{2}$$ \n",
    "$$ \\mathcal{L}(a^{(i)}, y^{(i)}) =  - y^{(i)}  \\log(a^{(i)}) - (1-y^{(i)} )  \\log(1-a^{(i)})\\tag{3}$$\n",
    "$$ J = \\frac{1}{m} \\sum_{i=1}^m \\mathcal{L}(a^{(i)}, y^{(i)})\\tag{4}$$\n",
    "\n"
   ],
   "metadata": {
    "deletable": false,
    "editable": false,
    "nbgrader": {
     "cell_type": "markdown",
     "checksum": "f25be7edf5d0455c35f68d120013982a",
     "grade": false,
     "grade_id": "cell-dc46a253e01b4aab",
     "locked": true,
     "schema_version": 3,
     "solution": false,
     "task": false
    }
   }
  },
  {
   "cell_type": "markdown",
   "source": [
    "Recordemos que los pasos más importantes para construir una Red Neuronal son:\n",
    "1. Definir la estructura del modelo (como el número de features de entrada)\n",
    "2. Inicializar los parámetros del modelo\n",
    "3. Iterar de la siguiente forma:\n",
    "    a. Calcular la pérdida (forward)\n",
    "    b. Calcular el gradiente actual (backward propagation)\n",
    "    c. Actualizar los parámetros (gradiente descendiente)\n",
    "\n",
    "Usualmente se crean estos pasos de forma separada para luego ser integrados en una función llamada \"model()\"\n",
    "\n",
    "Antes de continuiar, necesitamos definir una función de soporte, conocida como sigmoide\n",
    "Recuerden que para hacer predicciones, necesitamos calcular: \n",
    "$sigmoid(z) = \\frac{1}{1 + e^{-z}}$ para $z = w^T x + b$\n"
   ],
   "metadata": {
    "deletable": false,
    "editable": false,
    "nbgrader": {
     "cell_type": "markdown",
     "checksum": "dd508577af44b4a7244a75f10a7d9cd5",
     "grade": false,
     "grade_id": "cell-743a089c4c9113e5",
     "locked": true,
     "schema_version": 3,
     "solution": false,
     "task": false
    }
   }
  },
  {
   "cell_type": "code",
   "execution_count": 12,
   "source": [
    "def sigmoid(z):\n",
    "    \"\"\"\n",
    "    Computa el valor sigmoide de z\n",
    "\n",
    "    Arguments:\n",
    "    z: Un escalar o un numpy array \n",
    "\n",
    "    Return:\n",
    "    s: sigmoide(z)\n",
    "    \"\"\"\n",
    "    s = 1 / (1 + np.exp(-z))\n",
    "        \n",
    "    return s"
   ],
   "outputs": [],
   "metadata": {
    "ExecuteTime": {
     "end_time": "2023-07-17T05:54:11.076570Z",
     "start_time": "2023-07-17T05:54:11.064182Z"
    },
    "deletable": false,
    "editable": false,
    "nbgrader": {
     "cell_type": "code",
     "checksum": "e08d787ef48eec828840ca4fbf32ce1a",
     "grade": false,
     "grade_id": "cell-9b8dba89b6ef9400",
     "locked": true,
     "schema_version": 3,
     "solution": false,
     "task": false
    }
   }
  },
  {
   "cell_type": "markdown",
   "source": [
    "### Ejercicio 3 - Inicializando parámetros con cero\n",
    "\n",
    "Implemente la inicialización de parámetros. Tiene que inicializar w como un vector de zeros, considere usar np.zeros()"
   ],
   "metadata": {}
  },
  {
   "cell_type": "code",
   "execution_count": 13,
   "source": [
    "def initialize_with_zeros(dim):\n",
    "    \"\"\"\n",
    "    This function creates a vector of zeros of shape (dim, 1) for w and initializes b to 0.\n",
    "    Crea un vector de zeros de dimensión (dim, 1) para w, inicia b como cero\n",
    "\n",
    "    Argument:\n",
    "    dim: Tamaño\n",
    "\n",
    "    Returns:\n",
    "    w: Vector w (dim, 1)\n",
    "    b: Escalar, debe ser flotante\n",
    "    \"\"\"\n",
    "\n",
    "    # Aprox 2 línas de código\n",
    "    w = np.zeros((dim,1))\n",
    "    b = 0\n",
    "\n",
    "    return w, b"
   ],
   "outputs": [],
   "metadata": {
    "ExecuteTime": {
     "end_time": "2023-07-17T05:54:11.092106Z",
     "start_time": "2023-07-17T05:54:11.077947Z"
    },
    "deletable": false,
    "nbgrader": {
     "cell_type": "code",
     "checksum": "057ca28e135fe813c016cbf43d62e71e",
     "grade": false,
     "grade_id": "cell-6c59e7a07459b074",
     "locked": false,
     "schema_version": 3,
     "solution": true,
     "task": false
    }
   }
  },
  {
   "cell_type": "code",
   "execution_count": 14,
   "source": [
    "dim = 3 # No cambiar esta dimensión por favor\n",
    "w, b = initialize_with_zeros(dim)\n",
    "\n",
    "print (\"w = \" + str(w))\n",
    "print (\"b = \" + str(b))\n",
    "\n"
   ],
   "outputs": [
    {
     "output_type": "stream",
     "name": "stdout",
     "text": [
      "w = [[0.]\n",
      " [0.]\n",
      " [0.]]\n",
      "b = 0\n"
     ]
    }
   ],
   "metadata": {
    "ExecuteTime": {
     "end_time": "2023-07-17T05:54:11.107970Z",
     "start_time": "2023-07-17T05:54:11.093103Z"
    },
    "deletable": false,
    "editable": false,
    "nbgrader": {
     "cell_type": "code",
     "checksum": "5b21d4fb23951eda8221d0626dbcec06",
     "grade": true,
     "grade_id": "cell-4e7905fcde03b7f1",
     "locked": true,
     "points": 3,
     "schema_version": 3,
     "solution": false,
     "task": false
    }
   }
  },
  {
   "cell_type": "markdown",
   "source": [
    "### Ejercicio 4 - Forward and Backward propagation\n",
    "Tras inicializar los parámetros, necesitamos hacer el paso de \"forward\" y \"backward propagation\" para optimizar los parámetros.\n",
    "\n",
    "Para empezar, implemente la función \"propagate()\" que calcula la función de costo y su gradiente. \n",
    "\n",
    "**Recuerde**\n",
    "* Si tiene X\n",
    "* Se puede calcular $A = \\sigma(w^T X + b) = (a^{(1)}, a^{(2)}, ..., a^{(m-1)}, a^{(m)})$\n",
    "* Y luego se puede calcular la función de costo: $J = -\\frac{1}{m}\\sum_{i=1}^{m}(y^{(i)}\\log(a^{(i)})+(1-y^{(i)})\\log(1-a^{(i)}))$\n",
    "\n",
    "Por ende recuerd estas fórmulas (que probablemente estará usando):\n",
    "$$ \\frac{\\partial J}{\\partial w} = \\frac{1}{m}X(A-Y)^T\\tag{5}$$\n",
    "$$ \\frac{\\partial J}{\\partial b} = \\frac{1}{m} \\sum_{i=1}^m (a^{(i)}-y^{(i)})\\tag{6}$$\n"
   ],
   "metadata": {
    "deletable": false,
    "editable": false,
    "nbgrader": {
     "cell_type": "markdown",
     "checksum": "d6a39770bc35f40568bdf016ce49313a",
     "grade": false,
     "grade_id": "cell-a0ac21de9c0d235a",
     "locked": true,
     "schema_version": 3,
     "solution": false,
     "task": false
    }
   }
  },
  {
   "cell_type": "code",
   "execution_count": 15,
   "source": [
    "def propagate(w, b, X, Y):\n",
    "    # Forward propagation\n",
    "    # Aproximadamente 2 líneas de código para:\n",
    "    # A =\n",
    "    # C =\n",
    "    # Recuerde que no debe usar ciclos y considere usar np.dot\n",
    "    # Backward propagation\n",
    "    # Aproximadamente 2 líneas de código para:\n",
    "    # dw =\n",
    "    # db =\n",
    "    # Es decir, se esperan aprox 4 líneas de código\n",
    "    # YOUR CODE HERE\n",
    "\n",
    "    m = X.shape[1]\n",
    "    # Forward propagation\n",
    "    Z = np.dot(w.T, X) + b\n",
    "    A = 1 / (1 + np.exp(-Z))\n",
    "    C = (-1 / m) * np.sum(Y * np.log(A) + (1 - Y) * np.log(1 - A))\n",
    "\n",
    "    # Backward propagation\n",
    "    dw = (1 / m) * np.dot(X, (A - Y).T)\n",
    "    db = (1 / m) * np.sum(A - Y)\n",
    "\n",
    "    cost = np.squeeze(np.array(C))\n",
    "\n",
    "\n",
    "    grads = {\"dw\": dw,\n",
    "             \"db\": db}\n",
    "\n",
    "    return grads, cost"
   ],
   "outputs": [],
   "metadata": {
    "ExecuteTime": {
     "end_time": "2023-07-17T05:54:11.123680Z",
     "start_time": "2023-07-17T05:54:11.108924Z"
    },
    "deletable": false,
    "nbgrader": {
     "cell_type": "code",
     "checksum": "c6c88fba91cb5a3f18290608c5ae5f0f",
     "grade": false,
     "grade_id": "cell-414b6b1a6e6b100a",
     "locked": false,
     "schema_version": 3,
     "solution": true,
     "task": false
    }
   }
  },
  {
   "cell_type": "code",
   "execution_count": 17,
   "source": [
    "w =  np.array([[1.], [3]])\n",
    "b = 4.5\n",
    "X = np.array([[2., -2., -3.], [1., 1.5, -5.2]])\n",
    "Y = np.array([[1, 1, 0]])\n",
    "grads, cost = propagate(w, b, X, Y)\n",
    "\n",
    "\n",
    "print (\"dw = \" + str(grads[\"dw\"]))\n",
    "print (\"db = \" + str(grads[\"db\"]))\n",
    "print (\"cost = \" + str(cost))\n",
    "\n",
    "\n",
    "\n",
    "\n",
    "\n",
    "with tick.marks(0): \n",
    "    assert type(grads[\"dw\"]) == np.ndarray\n",
    "with tick.marks(0): \n",
    "    assert grads[\"dw\"].shape == (2, 1)\n",
    "with tick.marks(0): \n",
    "    assert type(grads[\"db\"]) == np.float64\n",
    "\n"
   ],
   "outputs": [
    {
     "output_type": "stream",
     "name": "stdout",
     "text": [
      "dw = [[ 0.00055672]\n",
      " [-0.00048178]]\n",
      "db = -0.0003283816747260056\n",
      "cost = 0.000329022626806518\n"
     ]
    },
    {
     "output_type": "display_data",
     "data": {
      "text/plain": [
       "<IPython.core.display.HTML object>"
      ],
      "text/html": [
       "\n",
       "        <div class=\"alert alert-box alert-success\">\n",
       "        <h1> <!--{id:\"CORRECTMARK\", marks:\"0\"}--> \n",
       "         ✓ [0 marks] \n",
       "         </h1> </div>"
      ]
     },
     "metadata": {}
    },
    {
     "output_type": "display_data",
     "data": {
      "text/plain": [
       "<IPython.core.display.HTML object>"
      ],
      "text/html": [
       "\n",
       "        <div class=\"alert alert-box alert-success\">\n",
       "        <h1> <!--{id:\"CORRECTMARK\", marks:\"0\"}--> \n",
       "         ✓ [0 marks] \n",
       "         </h1> </div>"
      ]
     },
     "metadata": {}
    },
    {
     "output_type": "display_data",
     "data": {
      "text/plain": [
       "<IPython.core.display.HTML object>"
      ],
      "text/html": [
       "\n",
       "        <div class=\"alert alert-box alert-success\">\n",
       "        <h1> <!--{id:\"CORRECTMARK\", marks:\"0\"}--> \n",
       "         ✓ [0 marks] \n",
       "         </h1> </div>"
      ]
     },
     "metadata": {}
    }
   ],
   "metadata": {
    "ExecuteTime": {
     "end_time": "2023-07-17T05:54:11.138590Z",
     "start_time": "2023-07-17T05:54:11.124680Z"
    },
    "deletable": false,
    "editable": false,
    "nbgrader": {
     "cell_type": "code",
     "checksum": "881a39beca02e58c3b3c7d9ec41e2055",
     "grade": true,
     "grade_id": "cell-c5990f67773dd846",
     "locked": true,
     "points": 3,
     "schema_version": 3,
     "solution": false,
     "task": false
    }
   }
  },
  {
   "cell_type": "markdown",
   "source": [
    "### Ejercicio 5 - Optimización\n",
    "\n",
    "Escriba una función de optimización. El objetivo es aprender $w$ y $b$ al minimizar la función de costo $J$. Para un parametro $\\theta$, la regla de actualización es $ \\theta = \\theta - \\alpha \\text{ } d\\theta$, donde $\\alpha$ es el learning rate.\n"
   ],
   "metadata": {
    "deletable": false,
    "editable": false,
    "nbgrader": {
     "cell_type": "markdown",
     "checksum": "7e4394b32be261be48256cb67e3422ae",
     "grade": false,
     "grade_id": "cell-793263fa0061d00a",
     "locked": true,
     "schema_version": 3,
     "solution": false,
     "task": false
    }
   }
  },
  {
   "cell_type": "code",
   "execution_count": 18,
   "source": [
    "def optimize(w, b, X, Y, num_iterations=100, learning_rate=0.009, print_cost=False):\n",
    "    w = copy.deepcopy(w)\n",
    "    b = copy.deepcopy(b)\n",
    "\n",
    "    costs = []\n",
    "\n",
    "    for i in range(num_iterations):\n",
    "        # Forward and Backward propagation\n",
    "        grads, cost = propagate(w, b, X, Y)\n",
    "\n",
    "        # Retrieve derivatives from grads\n",
    "        dw = grads[\"dw\"]\n",
    "        db = grads[\"db\"]\n",
    "\n",
    "        # Update parameters using element-wise operations (no matrix multiplication)\n",
    "        w = w - learning_rate * dw\n",
    "        b = b - learning_rate * db\n",
    "\n",
    "        # Record the costs\n",
    "        if i % 100 == 0:\n",
    "            costs.append(cost)\n",
    "\n",
    "            # Print the cost every 100 training iterations\n",
    "            if print_cost:\n",
    "                print(\"Cost after iteration %i: %f\" % (i, cost))\n",
    "\n",
    "    params = {\"w\": w,\n",
    "              \"b\": b}\n",
    "\n",
    "    grads = {\"dw\": dw,\n",
    "             \"db\": db}\n",
    "\n",
    "    return params, grads, costs"
   ],
   "outputs": [],
   "metadata": {
    "ExecuteTime": {
     "end_time": "2023-07-17T05:54:11.154437Z",
     "start_time": "2023-07-17T05:54:11.139591Z"
    },
    "deletable": false,
    "nbgrader": {
     "cell_type": "code",
     "checksum": "607a636364b6f1ce71b656e86379a210",
     "grade": false,
     "grade_id": "cell-fd0933dd47718545",
     "locked": false,
     "schema_version": 3,
     "solution": true,
     "task": false
    }
   }
  },
  {
   "cell_type": "code",
   "execution_count": 19,
   "source": [
    "# Recuerde NO cambiar esto por favor\n",
    "params, grads, costs = optimize(w, b, X, Y, num_iterations=100, learning_rate=0.009, print_cost=False)\n",
    "\n",
    "print (\"w = \" + str(params[\"w\"]))\n",
    "print (\"b = \" + str(params[\"b\"]))\n",
    "print (\"dw = \" + str(grads[\"dw\"]))\n",
    "print (\"db = \" + str(grads[\"db\"]))\n",
    "print(\"Costs = \" + str(costs))\n"
   ],
   "outputs": [
    {
     "output_type": "stream",
     "name": "stdout",
     "text": [
      "w = [[0.99949949]\n",
      " [3.00043321]]\n",
      "b = 4.50029528361711\n",
      "dw = [[ 0.00055554]\n",
      " [-0.00048091]]\n",
      "db = -0.0003278045123969942\n",
      "Costs = [array(0.00032902)]\n"
     ]
    }
   ],
   "metadata": {
    "ExecuteTime": {
     "end_time": "2023-07-17T05:54:11.184630Z",
     "start_time": "2023-07-17T05:54:11.156435Z"
    },
    "deletable": false,
    "editable": false,
    "nbgrader": {
     "cell_type": "code",
     "checksum": "cbd8a5b931cc547973ad7fc726d5b222",
     "grade": true,
     "grade_id": "cell-f6349f761a749b03",
     "locked": true,
     "points": 5,
     "schema_version": 3,
     "solution": false,
     "task": false
    }
   }
  },
  {
   "cell_type": "markdown",
   "source": [
    "### Ejercicio 6 - Predicción\n",
    "\n",
    "Con w y b calculados, ahora podemos hacer predicciones del dataset. Ahora implemente la función \"predict()\". \n",
    "Considere que hay dos pasos en la función de predicción:\n",
    "\n",
    "1. Calcular  $\\hat{Y} = A = \\sigma(w^T X + b)$\n",
    "2. Convertir la entrada a un 0 (si la activación es <= 0.5) o 1 (si la activación fue > 0.5), y guardar esta predicción en un vector \"Y_prediction\". "
   ],
   "metadata": {
    "ExecuteTime": {
     "end_time": "2023-07-17T02:12:57.430251Z",
     "start_time": "2023-07-17T02:12:57.423375Z"
    },
    "deletable": false,
    "editable": false,
    "nbgrader": {
     "cell_type": "markdown",
     "checksum": "5a38ce9a62679f1eb5067c3222707b03",
     "grade": false,
     "grade_id": "cell-183c765ab83de320",
     "locked": true,
     "schema_version": 3,
     "solution": false,
     "task": false
    }
   }
  },
  {
   "cell_type": "code",
   "execution_count": 20,
   "source": [
    "def predict(w, b, X):\n",
    "    \"\"\"\n",
    "    Predice si las etiquetas son 0 o 1 usando los parámetros de regresión logística.\n",
    "\n",
    "    Argumentos:\n",
    "    w -- pesos, un arreglo numpy de tamaño (n, 1)\n",
    "    b -- sesgo, un escalar\n",
    "    X -- datos de entrada, un arreglo numpy de tamaño (n, m)\n",
    "\n",
    "    Retorna:\n",
    "    Y_prediction -- un arreglo numpy que contiene todas las predicciones (0/1) para los ejemplos en X\n",
    "    \"\"\"\n",
    "\n",
    "    m = X.shape[1]\n",
    "    Y_prediction = np.zeros((1, m))\n",
    "\n",
    "    w = w.reshape(X.shape[0], 1)  # Asegurar la forma correcta de los pesos\n",
    "\n",
    "    # Calcular el vector A para predecir las probabilidades de ser 0 o 1\n",
    "    A = 1 / (1 + np.exp(-(np.dot(w.T, X) + b)))\n",
    "    print(\"Valores de A: \", A)\n",
    "\n",
    "    # Aprox 4 lineas de codigo para convertir A[0,i] en una predicción:\n",
    "    # if A[0, i] > ____ :\n",
    "    #  Y_prediction[0,i] =\n",
    "    # else:\n",
    "    #  Y_prediction[0,i] =\n",
    "    # YOUR CODE HERE\n",
    "\n",
    "    for i in range(A.shape[1]):\n",
    "        if A[0, i] > 0.5:\n",
    "            Y_prediction[0, i] = 1\n",
    "        else:\n",
    "            Y_prediction[0, i] = 0\n",
    "\n",
    "    return Y_prediction"
   ],
   "outputs": [],
   "metadata": {
    "ExecuteTime": {
     "end_time": "2023-07-17T05:54:11.200023Z",
     "start_time": "2023-07-17T05:54:11.186109Z"
    },
    "deletable": false,
    "nbgrader": {
     "cell_type": "code",
     "checksum": "e2102f35c80af5b97b14aa3207e434ca",
     "grade": false,
     "grade_id": "cell-9e4535ab9c60ef0b",
     "locked": false,
     "schema_version": 3,
     "solution": true,
     "task": false
    }
   }
  },
  {
   "cell_type": "code",
   "execution_count": 21,
   "source": [
    "w = np.array([[0.112368795], [0.48636775]])\n",
    "b = -0.7\n",
    "X = np.array([[1., -1.1, -3.2],[1.2, 2., 0.1]])\n",
    "predictions_ = predict(w, b, X)\n",
    "print (\"predictions = \" + str(predictions_))\n"
   ],
   "outputs": [
    {
     "output_type": "stream",
     "name": "stdout",
     "text": [
      "Valores de A:  [[0.49900253 0.53721351 0.26679527]]\n",
      "predictions = [[0. 1. 0.]]\n"
     ]
    }
   ],
   "metadata": {
    "ExecuteTime": {
     "end_time": "2023-07-17T05:54:11.215968Z",
     "start_time": "2023-07-17T05:54:11.201016Z"
    },
    "deletable": false,
    "editable": false,
    "nbgrader": {
     "cell_type": "code",
     "checksum": "3cd7dd4d62dbc1c77ee6092042807f64",
     "grade": true,
     "grade_id": "cell-d1a15c0cd7f9a841",
     "locked": true,
     "points": 5,
     "schema_version": 3,
     "solution": false,
     "task": false
    }
   }
  },
  {
   "cell_type": "markdown",
   "source": [
    "### Ejercicio 7 - Modelo\n",
    "\n",
    "Implemente la función \"model()\", usando la siguiente notación:\n",
    "* Y_prediction_test para las predicciones del test set\n",
    "* Y_prediction_train para las predicciones del train set\n",
    "* parameters, grads, costs para las salidas de \"optimize()\""
   ],
   "metadata": {
    "deletable": false,
    "editable": false,
    "nbgrader": {
     "cell_type": "markdown",
     "checksum": "bbae1d4d61dfab11c2777e97f935a006",
     "grade": false,
     "grade_id": "cell-d4cc359161bc1785",
     "locked": true,
     "schema_version": 3,
     "solution": false,
     "task": false
    }
   }
  },
  {
   "cell_type": "code",
   "execution_count": 22,
   "source": [
    "def model(X_train, Y_train, X_test, Y_test, num_iterations=2000, learning_rate=0.5, print_cost=False):\n",
    "    # Inicializa los parámetros con ceros\n",
    "    w,b = initialize_with_zeros(X_train.shape[0])\n",
    "\n",
    "    # Realiza la optimización usando el descenso de gradiente\n",
    "    params, grads, costs = optimize(w, b, X_train, Y_train, num_iterations, learning_rate, print_cost)\n",
    "\n",
    "    # Recupera los parámetros aprendidos\n",
    "    w = params[\"w\"]\n",
    "    b = params[\"b\"]\n",
    "\n",
    "    # Predice los ejemplos de entrenamiento y prueba\n",
    "    Y_prediction_train = predict(w, b, X_train)\n",
    "    Y_prediction_test = predict(w, b, X_test)\n",
    "\n",
    "    # Imprime los errores de entrenamiento y prueba\n",
    "    if print_cost:\n",
    "        train_accuracy = 100 - np.mean(np.abs(Y_prediction_train - Y_train)) * 100\n",
    "        test_accuracy = 100 - np.mean(np.abs(Y_prediction_test - Y_test)) * 100\n",
    "        print(\"Precisión de entrenamiento: {} %\".format(train_accuracy))\n",
    "        print(\"Precisión de prueba: {} %\".format(test_accuracy))\n",
    "\n",
    "    d = {\"costs\": costs,\n",
    "         \"Y_prediction_test\": Y_prediction_test,\n",
    "         \"Y_prediction_train\": Y_prediction_train,\n",
    "         \"w\": w,\n",
    "         \"b\": b,\n",
    "         \"learning_rate\": learning_rate,\n",
    "         \"num_iterations\": num_iterations}\n",
    "\n",
    "    return d"
   ],
   "outputs": [],
   "metadata": {
    "ExecuteTime": {
     "end_time": "2023-07-17T05:54:11.232064Z",
     "start_time": "2023-07-17T05:54:11.216928Z"
    },
    "deletable": false,
    "nbgrader": {
     "cell_type": "code",
     "checksum": "2d43f64d1fc5038364da431ce71b1cab",
     "grade": false,
     "grade_id": "cell-0f89124204653d77",
     "locked": false,
     "schema_version": 3,
     "solution": true,
     "task": false
    }
   }
  },
  {
   "cell_type": "code",
   "execution_count": 23,
   "source": [
    "logistic_regression_model = model(train_set_x, train_labels, test_set_x, test_labels, num_iterations=2000, learning_rate=0.005, print_cost=True)\n",
    "\n"
   ],
   "outputs": [
    {
     "output_type": "stream",
     "name": "stdout",
     "text": [
      "Cost after iteration 0: 0.693147\n",
      "Cost after iteration 100: 2.052074\n",
      "Cost after iteration 200: 1.878049\n",
      "Cost after iteration 300: 1.758583\n",
      "Cost after iteration 400: 1.663611\n",
      "Cost after iteration 500: 1.582448\n",
      "Cost after iteration 600: 1.509900\n",
      "Cost after iteration 700: 1.442954\n",
      "Cost after iteration 800: 1.379820\n",
      "Cost after iteration 900: 1.319430\n",
      "Cost after iteration 1000: 1.261168\n",
      "Cost after iteration 1100: 1.204774\n",
      "Cost after iteration 1200: 1.150262\n",
      "Cost after iteration 1300: 1.097820\n",
      "Cost after iteration 1400: 1.047688\n",
      "Cost after iteration 1500: 1.000048\n",
      "Cost after iteration 1600: 0.954979\n",
      "Cost after iteration 1700: 0.912456\n",
      "Cost after iteration 1800: 0.872356\n",
      "Cost after iteration 1900: 0.834486\n",
      "Valores de A:  [[8.26801116e-03 3.79625689e-03 9.66054123e-02 3.33166421e-03\n",
      "  1.96949348e-01 2.21494027e-04 5.48055935e-04 5.37207749e-02\n",
      "  1.99672889e-01 3.63367962e-03 3.07080562e-02 1.04091431e-02\n",
      "  3.37798476e-03 5.68877854e-01 7.51981349e-01 6.55128316e-04\n",
      "  1.54821998e-03 1.55426331e-01 3.89065012e-02 1.34557802e-04\n",
      "  1.64268801e-02 1.73461673e-01 3.74137273e-03 2.09835879e-03\n",
      "  9.13075212e-03 3.39028666e-03 8.61792915e-04 3.30841851e-02\n",
      "  1.45047375e-02 2.91786678e-03 7.39776520e-02 5.21901571e-03\n",
      "  2.98733289e-03 4.85085071e-04 2.90190922e-04 2.50499061e-03\n",
      "  1.18586784e-02 3.29744776e-03 4.42394407e-02 6.76594092e-02\n",
      "  2.43806883e-04 5.57932536e-03 5.14805775e-01 5.27624459e-04\n",
      "  6.51462694e-02 8.38977554e-02 2.10167285e-01 2.45678922e-03\n",
      "  1.07734961e-02 8.42323235e-01 1.50366320e-02 4.72976538e-02\n",
      "  3.49605600e-01 6.06894556e-03 1.15951620e-01 9.14123167e-03\n",
      "  8.99246198e-03 1.23500466e-03 9.17241001e-02 3.14112346e-03\n",
      "  8.55060775e-02 4.16942864e-04 3.90271422e-02 5.27928449e-02\n",
      "  3.21534770e-03 1.18008961e-03 2.32658365e-03 4.29558503e-05\n",
      "  1.07108557e-02 5.49479042e-03 5.67235045e-02 5.35786479e-04\n",
      "  5.21301432e-02 2.37630071e-02 7.77256000e-03 1.92661655e-02\n",
      "  8.10466357e-04 5.00405564e-03 3.58258365e-02 2.47397888e-02\n",
      "  5.75460010e-03 1.61083454e-03 1.01809153e-02 2.68201978e-02\n",
      "  1.52106265e-01 4.93258710e-02 2.01306492e-03 5.93103617e-02\n",
      "  9.42542346e-01 7.93745566e-03 1.45180548e-03 3.06405818e-03\n",
      "  2.42998760e-03 9.31377311e-03 1.18821683e-04 1.89889231e-03\n",
      "  1.03913213e-02 1.73221095e-03 6.65887536e-03 3.14976440e-03\n",
      "  1.06411576e-03 4.35199432e-02 6.19119079e-03 5.71621728e-02\n",
      "  1.04332407e-01 3.14571632e-03 1.72629040e-02 1.02779554e-01\n",
      "  1.03515584e-01 1.77695971e-03 4.90119250e-04 3.12410622e-01\n",
      "  1.54577516e-02 1.19212254e-03 5.18664806e-03 1.40923291e-03\n",
      "  3.01626305e-02 2.22347234e-03 2.11350539e-02 4.25847042e-04\n",
      "  4.47852482e-02 1.10183600e-04 4.91493140e-04 3.14472381e-04\n",
      "  4.39091586e-03 1.39436195e-01 3.17395395e-03 6.26868166e-04\n",
      "  2.40938057e-02 3.90355266e-03 4.07503617e-03 6.89237558e-02\n",
      "  4.08476733e-04 7.08175953e-04 6.08649442e-03 5.41420409e-02\n",
      "  1.24751887e-01 3.93227820e-03 4.77213388e-03 9.39155590e-03\n",
      "  2.86887813e-02 1.77162288e-03 1.04259190e-03 8.30082227e-03\n",
      "  2.25005024e-03 5.30715210e-04 2.01778243e-03 1.11998231e-01\n",
      "  5.12325506e-02 1.18121663e-02 4.05261930e-03 5.28954463e-01\n",
      "  1.45297117e-02 1.50257022e-02 3.41645290e-03 1.84518528e-02\n",
      "  7.64736667e-02 3.55721606e-03 1.15011317e-03 3.04702573e-04\n",
      "  3.48276977e-01 1.67764758e-01 1.14420964e-02 2.19680940e-02\n",
      "  3.92929639e-03 8.51908718e-06 9.65035489e-02 2.55527030e-03\n",
      "  1.69577586e-02 2.20885619e-04 4.55215209e-03 8.71088389e-02\n",
      "  6.33028746e-03 1.14246819e-02 4.34263625e-03 2.15890357e-02\n",
      "  8.84779209e-02 3.88491616e-03 2.75823503e-02 2.20982910e-04\n",
      "  4.42128409e-03 4.86178273e-02 5.31788924e-03 1.15097451e-03\n",
      "  3.48838800e-02 2.26772384e-01 1.03165095e-01 3.58890335e-03\n",
      "  2.88169760e-03 4.60032430e-02 1.77148759e-02 4.09523704e-04\n",
      "  9.59310746e-04 2.12110180e-03 7.42722157e-02 5.73997514e-04\n",
      "  5.80446479e-03 5.17734623e-05 2.78098895e-03 2.94454263e-03\n",
      "  3.98357449e-01 1.96691115e-01 1.20820790e-01 5.97914185e-03\n",
      "  1.45115911e-01 2.48784974e-02 6.03921421e-03 7.17295227e-03\n",
      "  1.72743701e-02 1.42548330e-02 1.84521841e-02 6.30283153e-03\n",
      "  6.21053914e-03 3.57558038e-02 1.85276413e-01 3.53131670e-01\n",
      "  1.31153916e-02 1.16654604e-02 1.83796682e-03 4.98934295e-03\n",
      "  3.10408527e-03 2.82797737e-03 5.08277282e-05 2.22851344e-02\n",
      "  1.20983795e-02 1.75738412e-02 1.17864016e-01 7.61297075e-02\n",
      "  2.62767127e-04 2.83575450e-03 1.53302137e-04 3.96009206e-04\n",
      "  1.54266636e-03 4.53735546e-01 4.74899290e-01 8.16527781e-04\n",
      "  3.26238570e-03 1.79892764e-04 1.64376012e-03 1.74112422e-01\n",
      "  8.93123516e-03 1.05940509e-01 1.89847377e-04 7.75138357e-03\n",
      "  1.45538411e-03 1.91146706e-04 3.02829113e-03 1.04314055e-03\n",
      "  4.70030839e-04 6.44444509e-05 1.88162320e-02 2.91432644e-03\n",
      "  2.48693083e-02 1.04361167e-04 4.32602681e-03 1.06729269e-04\n",
      "  8.84104578e-02 5.62416018e-02 3.25270062e-03 9.14309026e-03\n",
      "  3.43020944e-02 3.76936657e-05 3.92340895e-04 4.18628140e-03\n",
      "  2.54735226e-01 2.14970226e-01 5.49963942e-05 1.30612042e-03\n",
      "  1.11340092e-03 4.36668131e-03 1.78212391e-02 9.00125187e-01\n",
      "  4.42620536e-02 2.88171218e-02 8.31436135e-03 1.17572025e-03\n",
      "  4.36043445e-03 1.34389543e-01 6.79834204e-05 6.16935212e-01\n",
      "  1.68882740e-02 9.25426277e-01 3.18417857e-01 1.54054030e-01\n",
      "  9.89512352e-02 7.41176743e-01 8.57177852e-01 4.45906350e-01\n",
      "  8.18843393e-01 7.99311330e-02 1.65618703e-02 4.01488938e-01\n",
      "  9.00185514e-01 3.94524387e-02 7.34805747e-01 2.53764511e-01\n",
      "  8.68295609e-01 1.31582603e-01 3.59114432e-01 4.60045929e-01\n",
      "  6.66685870e-01 3.63214978e-01 2.65773288e-01 9.94064319e-01\n",
      "  1.81278857e-01 7.75913550e-01 1.40024221e-01 1.30644999e-01\n",
      "  5.40899602e-01 6.15593453e-01 9.24671566e-01 1.01357433e-01\n",
      "  8.71704675e-01 3.64345486e-03 5.79579721e-01 9.30664936e-01\n",
      "  2.49729895e-01 4.24266193e-01 3.03075322e-02 6.67178911e-01\n",
      "  5.93151235e-02 5.57183948e-01 4.86502007e-02 7.05898537e-01\n",
      "  2.50857583e-03 3.01513182e-02 3.55700493e-01 8.42963095e-01\n",
      "  7.33540445e-01 3.31176394e-01 1.82713129e-02 3.66959732e-02\n",
      "  2.71685193e-02 9.95668861e-02 3.68950077e-01 1.96003157e-01\n",
      "  5.26081512e-01 6.11593309e-01 8.30631962e-01 4.09725353e-01\n",
      "  8.31644494e-01 2.14561699e-02 6.17660784e-01 8.83201070e-02\n",
      "  4.51972479e-01 9.40314012e-01 4.61920434e-01 1.47048582e-01\n",
      "  3.52358146e-02 1.61926183e-01 2.52650258e-01 3.50170239e-01\n",
      "  1.01214120e-01 3.45602813e-01 1.59446221e-01 5.16741936e-01\n",
      "  4.84819225e-01 5.22686187e-01 7.05425719e-01 1.60372745e-01\n",
      "  3.80067695e-01 1.43951448e-01 2.76870033e-02 1.97392563e-01\n",
      "  3.67298071e-02 1.19293645e-01 6.50724588e-01 1.82201282e-01\n",
      "  9.36639070e-01 1.90840953e-02 9.46220787e-01 8.36163013e-01\n",
      "  2.39591171e-01 5.00269205e-01 7.57280838e-01 1.29395903e-02\n",
      "  7.89788816e-02 9.11291576e-01 1.46192312e-03 3.33760718e-01\n",
      "  5.97238495e-03 8.66939658e-03 4.30764943e-01 9.09605114e-01\n",
      "  6.03896421e-01 8.71707506e-01 1.36592670e-01 4.08707475e-02\n",
      "  2.01047979e-02 8.39679216e-01 2.86754234e-01 6.35997375e-02\n",
      "  2.22827309e-02 3.30210532e-01 8.88389246e-01 3.33415400e-01\n",
      "  1.12205351e-02 4.74572414e-01 1.63601158e-01 7.17336132e-01\n",
      "  6.80241630e-01 6.20391157e-02 8.54054110e-01 3.21301557e-01\n",
      "  1.39129874e-01 9.33864911e-01 6.40743474e-01 6.98687589e-01\n",
      "  9.32742403e-02 2.22860610e-02 4.70930103e-01 2.53355056e-01\n",
      "  3.89612769e-01 7.39170370e-01 2.44078775e-01 1.22678215e-01\n",
      "  2.01222923e-02 1.26263871e-02 7.08703608e-02 6.15851788e-02\n",
      "  1.36311002e-01 1.22729839e-01 1.45560861e-01 2.64717449e-01\n",
      "  2.25063462e-02 5.98021566e-01 8.59050993e-01 8.85681462e-01\n",
      "  8.23822906e-01 1.44994762e-01 9.66835858e-01 4.00314215e-01\n",
      "  9.98448427e-01 1.72250258e-02 4.78701787e-02 2.26031726e-01\n",
      "  5.39080596e-01 9.87847560e-01 1.61357636e-01 6.68496574e-01\n",
      "  9.64631981e-02 6.44988505e-01 9.01854517e-01 2.49919658e-01\n",
      "  2.45553067e-01 2.38813043e-01 7.14187162e-01 2.38748414e-01\n",
      "  2.23950700e-01 5.79642399e-02 8.08256438e-01 1.40356127e-02\n",
      "  3.04365459e-01 6.76114486e-01 5.48613757e-01 7.20923723e-01\n",
      "  4.99869789e-01 4.15638939e-01 8.10988896e-02 3.62173732e-02\n",
      "  3.59582615e-01 7.59984870e-02 4.32978220e-01 2.83000685e-01\n",
      "  5.29590557e-01 2.28252352e-01 5.50887266e-01 4.19777747e-01\n",
      "  5.03758231e-01 8.88757887e-01 9.26219864e-01 2.25677081e-02\n",
      "  1.17235248e-02 9.81039119e-02 2.56708899e-01 6.11474660e-02\n",
      "  8.24637352e-01 3.70530810e-01 2.13590111e-01 5.93786767e-01\n",
      "  3.43433490e-02 4.41830193e-01 7.30210099e-01 1.59826858e-02\n",
      "  7.95204201e-01 8.52717357e-01 7.73009431e-01 3.21429436e-02\n",
      "  2.50346267e-01 1.18089709e-01 9.35973500e-03 4.98948754e-01\n",
      "  8.62543859e-01 2.19798691e-01 3.56494979e-01 4.14192226e-01\n",
      "  2.95286458e-02 8.53175791e-02 6.30819740e-01 1.43886894e-02\n",
      "  3.51130998e-01 3.45755669e-01 2.23881662e-02 3.50486263e-01\n",
      "  5.95767270e-03 3.31897850e-01 2.52479999e-01 7.01245630e-01\n",
      "  8.72523636e-01 1.36213584e-01 7.66703995e-01 6.47969245e-01\n",
      "  6.49548183e-01 1.59410241e-01 4.80027472e-01 1.34790080e-02\n",
      "  5.89279659e-02 9.95978964e-01 6.54293252e-02 2.38748107e-01\n",
      "  8.85143579e-02 9.40579964e-02 8.19404472e-02 2.92782721e-01\n",
      "  3.96479597e-01 5.95205356e-01 9.93682425e-02 3.24982957e-01\n",
      "  4.52166209e-01 8.64778539e-01 7.12907593e-01 6.15721874e-01\n",
      "  4.66888617e-02 7.66839800e-01 1.04923790e-01 6.61629663e-02\n",
      "  3.06232116e-02 1.53573160e-01 6.00753183e-01 9.75125936e-01\n",
      "  3.11960010e-01 3.90392697e-01 9.76317921e-01 7.43800385e-04\n",
      "  7.87302384e-01 6.57923899e-01 9.76643775e-01 8.82641515e-01\n",
      "  3.63576989e-01 5.16950858e-01 7.33226197e-01 2.16310848e-01\n",
      "  7.67516952e-01 1.36577034e-01 4.90657878e-01 8.87182631e-01\n",
      "  9.20913944e-01]]\n",
      "Valores de A:  [[6.76732776e-03 8.40099019e-02 1.14734143e-03 6.36127874e-02\n",
      "  1.39071980e-02 2.19800447e-02 3.06792941e-03 1.36008751e-01\n",
      "  6.08855031e-03 7.05990441e-02 2.24983258e-02 8.17699052e-01\n",
      "  2.81466609e-01 4.67145442e-04 5.02555505e-02 7.88681140e-04\n",
      "  3.02632338e-02 7.79660076e-05 7.79800340e-02 9.62428882e-02\n",
      "  1.33005482e-01 2.92435283e-03 3.79574680e-01 1.48582924e-02\n",
      "  3.44036640e-03 1.86661090e-03 2.93448460e-01 1.49326567e-02\n",
      "  1.03750049e-01 9.61616418e-01 1.10567860e-02 5.42856592e-01\n",
      "  7.81976179e-01 4.06262930e-02 6.17677184e-03 1.76867571e-02\n",
      "  9.85350926e-01 9.70727295e-03 1.27758446e-02 9.25106693e-02\n",
      "  1.84193243e-01 1.45581845e-01 6.05639106e-03 8.81421052e-04\n",
      "  8.24318461e-02 6.44457484e-01 2.28745267e-02 3.47225676e-01\n",
      "  5.80380691e-03 3.21680859e-02 6.76737426e-03 3.59575522e-04\n",
      "  8.11288068e-03 3.02222398e-01 3.62515486e-03 8.31819868e-02\n",
      "  3.43608648e-01 1.37971928e-01 1.01010653e-02 9.49385090e-03\n",
      "  2.34900685e-03 7.72494867e-01 3.42710237e-02 8.24362687e-01\n",
      "  4.37360794e-02 1.22262935e-02 9.78215422e-03 5.94182618e-01\n",
      "  3.91610617e-05 9.46602691e-01 6.39268623e-02 1.07917045e-04\n",
      "  1.43046210e-02 2.53331625e-01 4.00542165e-02 4.24500212e-02\n",
      "  1.13132685e-01 3.71884619e-03 9.77089101e-01 5.52311251e-01\n",
      "  1.15031213e-01 4.76555420e-03 3.77332827e-04 6.35163949e-02\n",
      "  1.24215664e-01 2.01265961e-01 1.10216078e-04 8.93392253e-01\n",
      "  1.26880951e-01 4.85615369e-01 9.44469822e-01 1.79138024e-02\n",
      "  7.16411588e-03 2.26446872e-02 9.07240859e-01 1.87900815e-03\n",
      "  8.12127448e-01 9.17633293e-02 3.96468993e-01 4.36553199e-01\n",
      "  7.42712248e-01 9.88875390e-05 1.45088736e-01 5.02300522e-04\n",
      "  3.42325902e-02 1.45390100e-03 6.72237867e-01 1.09539852e-01\n",
      "  1.88240486e-02 8.03705821e-01 5.31076041e-02 3.80671013e-01\n",
      "  4.69518721e-01 9.07013953e-04 2.34539209e-02 9.53102156e-02\n",
      "  2.23560597e-02 1.80239751e-01 3.51829281e-02 7.05095820e-02\n",
      "  5.07985413e-02 1.98779967e-01 3.19980435e-01 1.92575610e-01\n",
      "  3.71051298e-02 2.07370427e-01 1.74206948e-02 9.87329767e-01\n",
      "  1.13481523e-01 5.18201549e-03 2.40928374e-01 9.76693193e-02\n",
      "  7.22824948e-01 2.16315886e-01 2.90276863e-01 3.20888446e-01\n",
      "  1.59980844e-01 4.21263075e-01 1.18025584e-01 2.34677963e-02]]\n",
      "Precisión de entrenamiento: 67.14542190305207 %\n",
      "Precisión de prueba: 50.71428571428571 %\n"
     ]
    }
   ],
   "metadata": {
    "ExecuteTime": {
     "end_time": "2023-07-17T05:54:23.785308Z",
     "start_time": "2023-07-17T05:54:11.238001Z"
    },
    "deletable": false,
    "editable": false,
    "nbgrader": {
     "cell_type": "code",
     "checksum": "405b80ca613d46562f53866c44a3e2b3",
     "grade": true,
     "grade_id": "cell-e1614860d213c4da",
     "locked": true,
     "points": 20,
     "schema_version": 3,
     "solution": false,
     "task": false
    }
   }
  },
  {
   "cell_type": "code",
   "execution_count": 24,
   "source": [
    "# Example of a picture that was wrongly classified.\n",
    "index = 1\n",
    "plt.imshow(test_set_x[:, index].reshape((num_px, num_px, 3))) \n",
    "print (\"y = \" + str(test_labels[0,index]) + \", predice que este es un \\\"\" + 'gato' if int(logistic_regression_model['Y_prediction_test'][0,index])==0 else 'perro' +  \"\\\" picture.\")"
   ],
   "outputs": [
    {
     "output_type": "stream",
     "name": "stdout",
     "text": [
      "y = 0, predice que este es un \"gato\n"
     ]
    },
    {
     "output_type": "display_data",
     "data": {
      "text/plain": [
       "<Figure size 640x480 with 1 Axes>"
      ],
      "image/png": "[encoded data removed]"
     },
     "metadata": {}
    }
   ],
   "metadata": {
    "ExecuteTime": {
     "end_time": "2023-07-17T05:54:23.944150Z",
     "start_time": "2023-07-17T05:54:23.788299Z"
    },
    "deletable": false,
    "editable": false,
    "nbgrader": {
     "cell_type": "code",
     "checksum": "6932f3be9bbea0421b20bf3416c8b163",
     "grade": false,
     "grade_id": "cell-bffc36b8ca79f62a",
     "locked": true,
     "schema_version": 3,
     "solution": false,
     "task": false
    }
   }
  },
  {
   "cell_type": "code",
   "execution_count": 25,
   "source": [
    "# Plot learning curve (with costs)\n",
    "costs = np.squeeze(logistic_regression_model['costs'])\n",
    "plt.plot(costs)\n",
    "plt.ylabel('cost')\n",
    "plt.xlabel('iterations (per hundreds)')\n",
    "plt.title(\"Learning rate =\" + str(logistic_regression_model[\"learning_rate\"]))\n",
    "plt.show()"
   ],
   "outputs": [
    {
     "output_type": "display_data",
     "data": {
      "text/plain": [
       "<Figure size 640x480 with 1 Axes>"
      ],
      "image/png": "[encoded data removed]"
     },
     "metadata": {}
    }
   ],
   "metadata": {
    "ExecuteTime": {
     "end_time": "2023-07-17T05:54:24.085278Z",
     "start_time": "2023-07-17T05:54:23.946077Z"
    },
    "deletable": false,
    "editable": false,
    "nbgrader": {
     "cell_type": "code",
     "checksum": "436eb59d924860c793ad1a936ab93ac0",
     "grade": false,
     "grade_id": "cell-676e48ce57e75ca2",
     "locked": true,
     "schema_version": 3,
     "solution": false,
     "task": false
    }
   }
  },
  {
   "cell_type": "markdown",
   "source": [
    "**NOTA:** Dentro de los comentarios de la entrega (en Canvas) asegurese de contestar\n",
    "1. ¿Qué se podría hacer para mejorar el rendimiento de esta red?\n",
    "\n",
    "\n",
    "Aplicar técnicas de regularización para evitar el sobreajuste es fundamental en el proceso de entrenamiento de modelos de aprendizaje automático. Una de las formas más efectivas de abordar este problema es aumentar la cantidad de datos de entrenamiento, lo que permite al modelo aprender patrones más generalizados y evitar depender demasiado de ejemplos específicos. Además, al aumentar el conjunto de datos, se obtiene una visión más completa y representativa del problema, lo que contribuye a una mejor capacidad de generalización.\n",
    "\n",
    "Otro aspecto importante es seleccionar cuidadosamente las características más relevantes para el problema en cuestión. Al elegir las características adecuadas, se puede reducir el ruido y la dimensionalidad del conjunto de datos, lo que lleva a un modelo más preciso y eficiente. Es esencial realizar una exploración exhaustiva y un análisis detallado para determinar qué características son más informativas para el modelo.\n",
    "\n",
    "Además, es fundamental experimentar con diferentes valores de hiperparámetros durante el proceso de entrenamiento. Hiperparámetros como la tasa de aprendizaje y el número de iteraciones pueden afectar significativamente el rendimiento y la convergencia del modelo. Probar diversas configuraciones ayuda a encontrar el equilibrio óptimo y garantiza un mejor desempeño en el conjunto de datos de prueba.\n",
    "\n",
    "En algunos casos, especialmente cuando el problema es complejo y requiere una mayor capacidad de aprendizaje, es recomendable considerar arquitecturas más complejas. Estas arquitecturas pueden contener capas adicionales o neuronas para capturar patrones más intrincados y sutiles presentes en los datos. Sin embargo, es esencial evitar el sobreajuste durante este proceso y realizar un seguimiento cuidadoso del rendimiento del modelo en el conjunto de validación.\n",
    "\n",
    "Además de la regularización y la selección de características, normalizar los datos es otra práctica importante. La normalización ayuda a escalar las características de manera uniforme, lo que evita problemas de escala y mejora la velocidad de convergencia del modelo durante el entrenamiento.\n",
    "\n",
    "También se debe considerar el uso de diferentes funciones de activación para mitigar el problema del desvanecimiento de gradientes, especialmente en redes neuronales profundas. Al elegir funciones de activación apropiadas, se puede garantizar un flujo adecuado de información durante el proceso de propagación hacia atrás y, por lo tanto, mejorar la estabilidad y el rendimiento del modelo.\n",
    "\n",
    "\n",
    "2. Interprete la gráfica de arriba\n",
    "\n",
    "\n",
    "El gráfico ilustra la evolución del costo a medida que el modelo se entrena durante varias iteraciones. Inicialmente, observamos una disminución pronunciada del costo, lo que sugiere que el modelo está capturando los patrones y relaciones dentro de los datos, y está mejorando su rendimiento. Este descenso rápido indica un progreso significativo en la capacidad del modelo para realizar predicciones precisas.\n",
    "\n",
    "Sin embargo, conforme avanzan las iteraciones, notamos que el costo comienza a estabilizarse en un valor determinado. Esta estabilización sugiere que el modelo ha alcanzado una solución cercana al óptimo para el problema dado. En este punto, el modelo ha aprendido lo máximo posible de los datos de entrenamiento y ha ajustado sus parámetros para aproximarse a los valores que minimizan el costo.\n",
    "\n",
    "Es importante destacar que, durante el entrenamiento, debemos estar atentos a ciertas señales. Si después de cierto punto el costo comienza a aumentar en lugar de seguir disminuyendo, puede ser una señal de que el modelo está sobreajustando los datos de entrenamiento. El sobreajuste ocurre cuando el modelo se ha ajustado demasiado a los detalles idiosincrásicos o ruidosos de los datos de entrenamiento, perdiendo así la capacidad de generalización a nuevos datos."
   ],
   "metadata": {
    "deletable": false,
    "editable": false,
    "nbgrader": {
     "cell_type": "markdown",
     "checksum": "896a282b5ed36e628803213ada688ab2",
     "grade": false,
     "grade_id": "cell-c58bf1914772341a",
     "locked": true,
     "schema_version": 3,
     "solution": false,
     "task": false
    }
   }
  },
  {
   "cell_type": "markdown",
   "source": [
    "## Parte 2 - Red Neuronal Simple con PyTorch\n",
    "\n",
    "Para esta parte seguiremos usando el mismo dataset que anteriormente teníamos. \n",
    "\n",
    "Entonces volvamos a cargar las imagenes por paz mental :)"
   ],
   "metadata": {
    "deletable": false,
    "editable": false,
    "nbgrader": {
     "cell_type": "markdown",
     "checksum": "cb2221fbd08033a3123e3c9dd2c50a92",
     "grade": false,
     "grade_id": "cell-f4a25a189fbe3b59",
     "locked": true,
     "schema_version": 3,
     "solution": false,
     "task": false
    }
   }
  },
  {
   "cell_type": "code",
   "execution_count": 26,
   "source": [
    "train_images = []\n",
    "train_labels = []\n",
    "test_images = []\n",
    "test_labels = []\n",
    "\n",
    "# Call the function for both the 'train' and 'test' folders\n",
    "train_cats_path = os.path.join(data_dir, 'train', 'cats')\n",
    "train_dogs_path = os.path.join(data_dir, 'train', 'dogs')\n",
    "test_cats_path = os.path.join(data_dir, 'test', 'cats')\n",
    "test_dogs_path = os.path.join(data_dir, 'test', 'dogs')\n",
    "\n",
    "\n",
    "# Read images\n",
    "target_size = (64, 64)\n",
    "read_images(train_cats_path, \"cats\", target_size)\n",
    "read_images(train_dogs_path, \"dogs\", target_size)\n",
    "read_images(test_cats_path, \"cats\", target_size)\n",
    "read_images(test_dogs_path, \"dogs\", target_size)\n",
    "\n",
    "\n",
    "# Convert the lists to numpy arrays\n",
    "train_images = np.array(train_images)\n",
    "train_labels = np.array(train_labels)\n",
    "test_images = np.array(test_images)\n",
    "test_labels = np.array(test_labels)"
   ],
   "outputs": [],
   "metadata": {
    "ExecuteTime": {
     "end_time": "2023-07-17T05:54:29.215628Z",
     "start_time": "2023-07-17T05:54:24.088562Z"
    },
    "deletable": false,
    "editable": false,
    "nbgrader": {
     "cell_type": "code",
     "checksum": "dd31f315f28ea36d0688c889e6d23823",
     "grade": false,
     "grade_id": "cell-b2aeecb71e5073c7",
     "locked": true,
     "schema_version": 3,
     "solution": false,
     "task": false
    }
   }
  },
  {
   "cell_type": "markdown",
   "source": [
    "#### Nuevas librerías a usar\n",
    "Asegúrense de instalar las librerías que les hagan falta del siguiente grupo de import.\n",
    "\n",
    "**Recuerden usar virtual envs!**"
   ],
   "metadata": {
    "deletable": false,
    "editable": false,
    "nbgrader": {
     "cell_type": "markdown",
     "checksum": "f5f75460a330d1298d6af1f45179a3a5",
     "grade": false,
     "grade_id": "cell-61836b687d6bd4c2",
     "locked": true,
     "schema_version": 3,
     "solution": false,
     "task": false
    }
   }
  },
  {
   "cell_type": "code",
   "execution_count": 27,
   "source": [
    "import torch\n",
    "import torch.nn as nn\n",
    "import torch.optim as optim\n",
    "import torch.nn.functional as F\n",
    "from torch.utils.data import Dataset, DataLoader\n",
    "from PIL import Image\n",
    "import torch.utils.data as data\n",
    "import random\n",
    "\n",
    "\n",
    "# Seed all possible\n",
    "seed_ = 2023\n",
    "random.seed(seed_)\n",
    "np.random.seed(seed_)\n",
    "torch.manual_seed(seed_)\n",
    "\n",
    "# If using CUDA, you can set the seed for CUDA devices as well\n",
    "if torch.cuda.is_available():\n",
    "    torch.cuda.manual_seed(seed_)\n",
    "    torch.cuda.manual_seed_all(seed_)\n",
    "    \n",
    "import torch.backends.cudnn as cudnn\n",
    "cudnn.deterministic = True\n",
    "cudnn.benchmark = False"
   ],
   "outputs": [],
   "metadata": {
    "ExecuteTime": {
     "end_time": "2023-07-17T05:54:31.170534Z",
     "start_time": "2023-07-17T05:54:29.217623Z"
    },
    "deletable": false,
    "editable": false,
    "nbgrader": {
     "cell_type": "code",
     "checksum": "dc4625560ea9acafe0617f5df3f99f41",
     "grade": false,
     "grade_id": "cell-765ea5c91dd4cdfa",
     "locked": true,
     "schema_version": 3,
     "solution": false,
     "task": false
    }
   }
  },
  {
   "cell_type": "markdown",
   "source": [
    "Para poder usar PyTorch de una mejor manera con nuestro dataset de imagenes, tendremos que \"formalizar\" la manera en que cargamos las imagenes. Para ello crearemos una clase que represente el Dataset con el que estaremos trabajando"
   ],
   "metadata": {
    "deletable": false,
    "editable": false,
    "nbgrader": {
     "cell_type": "markdown",
     "checksum": "36a191e59c98c1b68f597c748e741e2f",
     "grade": false,
     "grade_id": "cell-4763cde0de2b8807",
     "locked": true,
     "schema_version": 3,
     "solution": false,
     "task": false
    }
   }
  },
  {
   "cell_type": "code",
   "execution_count": 28,
   "source": [
    "class CatsAndDogsDataset(data.Dataset):\n",
    "    def __init__(self, data_dir, target_size=(28, 28), color_mode='RGB', train=True):\n",
    "        self.data_dir = data_dir\n",
    "        self.target_size = target_size\n",
    "        self.color_mode = color_mode\n",
    "        self.classes = ['cats', 'dogs']\n",
    "        self.train = train\n",
    "        self.image_paths, self.labels = self.load_image_paths_and_labels()\n",
    "\n",
    "    def __len__(self):\n",
    "        return len(self.image_paths)\n",
    "\n",
    "    def __getitem__(self, idx):\n",
    "        image_path = self.image_paths[idx]\n",
    "        image = Image.open(image_path)\n",
    "        image = image.convert(self.color_mode)\n",
    "        image = image.resize(self.target_size)\n",
    "        image = np.array(image)\n",
    "        image = (image / 255.0 - 0.5) / 0.5  # Normalize to range [-1, 1]\n",
    "        image = torch.tensor(image, dtype=torch.float32)\n",
    "        image = image.view(-1)\n",
    "\n",
    "        label = torch.tensor(self.labels[idx], dtype=torch.long)\n",
    "\n",
    "        return image, label\n",
    "\n",
    "    def load_image_paths_and_labels(self):\n",
    "        image_paths = []\n",
    "        labels = []\n",
    "        for class_idx, class_name in enumerate(self.classes):\n",
    "            class_path = os.path.join(self.data_dir, 'train' if self.train else 'test', class_name)\n",
    "            for filename in os.listdir(class_path):\n",
    "                image_path = os.path.join(class_path, filename)\n",
    "                image_paths.append(image_path)\n",
    "                labels.append(class_idx)\n",
    "        return image_paths, labels\n"
   ],
   "outputs": [],
   "metadata": {
    "ExecuteTime": {
     "end_time": "2023-07-17T05:54:31.185981Z",
     "start_time": "2023-07-17T05:54:31.171535Z"
    },
    "deletable": false,
    "editable": false,
    "nbgrader": {
     "cell_type": "code",
     "checksum": "053c1c6465ff0f74d8a0e9e2ac2c11cc",
     "grade": false,
     "grade_id": "cell-2395d91aad8741d8",
     "locked": true,
     "schema_version": 3,
     "solution": false,
     "task": false
    }
   }
  },
  {
   "cell_type": "markdown",
   "source": [
    "### Definición de la red neuronal\n",
    "Una de las formas de definir una red neuronal con PyTorch es através del uso de clases. En esta el constructor usualmente tiene las capas que se usaran, mientras que la función que se extiende \"forward()\" hace clara la relación entre las capas.\n",
    "\n",
    "Para poder entenderlo, hay que leer desde la función más interna hacia afuera y de arriba hacia abajo. Por ejemplo, en la línea 8, la capa fc1 (que es una lineal), pasa luego a una función de activación ReLU, despues la información pasa a una segunda lineal (fc2), para finalmente pasar por una función de activación SoftMax"
   ],
   "metadata": {
    "deletable": false,
    "editable": false,
    "nbgrader": {
     "cell_type": "markdown",
     "checksum": "2521836730f73fabc2388a18bd3c24bd",
     "grade": false,
     "grade_id": "cell-058ea7eaad08cddf",
     "locked": true,
     "points": 0,
     "schema_version": 3,
     "solution": false,
     "task": true
    }
   }
  },
  {
   "cell_type": "code",
   "execution_count": 29,
   "source": [
    "class SimpleClassifier(nn.Module):\n",
    "    def __init__(self, input_size, hidden_size, output_size):\n",
    "        super(SimpleClassifier, self).__init__()\n",
    "        self.fc1 = nn.Linear(input_size, hidden_size)\n",
    "        self.fc2 = nn.Linear(hidden_size, output_size)\n",
    "\n",
    "    def forward(self, x):\n",
    "        x = torch.relu(self.fc1(x))   # Feedforward step: Compute hidden layer activations\n",
    "        x = self.fc2(x)              # Feedforward step: Compute output layer activations\n",
    "        return F.log_softmax(x, dim=1)\n"
   ],
   "outputs": [],
   "metadata": {
    "ExecuteTime": {
     "end_time": "2023-07-17T05:54:31.201417Z",
     "start_time": "2023-07-17T05:54:31.187561Z"
    },
    "deletable": false,
    "editable": false,
    "nbgrader": {
     "cell_type": "code",
     "checksum": "c533a0c5937c36ef74d0cb07efa3bc4f",
     "grade": false,
     "grade_id": "cell-b8604c4d0eb2f6b4",
     "locked": true,
     "schema_version": 3,
     "solution": false,
     "task": false
    }
   }
  },
  {
   "cell_type": "markdown",
   "source": [
    "### Definición de la función de entrenamiento\n",
    "\n",
    "Una forma de entrenar una red neuronal con PyTorch es, tras haber definido el modelo, se pasa a definir una función que se encargará de realizar el entrenamiento. Esto incluye tanto el paso de feedforward como el de back propagation. \n",
    "\n",
    "Deberá terminar de implementar las funciones dadas según se solicita"
   ],
   "metadata": {
    "deletable": false,
    "editable": false,
    "nbgrader": {
     "cell_type": "markdown",
     "checksum": "6f397a94a029fe7e2f304a4be6eee7bf",
     "grade": false,
     "grade_id": "cell-8271cecfe3206d48",
     "locked": true,
     "schema_version": 3,
     "solution": false,
     "task": false
    }
   }
  },
  {
   "cell_type": "code",
   "execution_count": 33,
   "source": [
    "loss_history = [] # DO NOT DELETE\n",
    "\n",
    "def train_model(model, train_loader, optimizer, criterion, epochs):\n",
    "    model.train()\n",
    "    \n",
    "    for epoch in range(epochs):\n",
    "        running_loss = 0.0\n",
    "        for inputs, labels in train_loader:\n",
    "            inputs = inputs.view(-1, input_size)\n",
    "\n",
    "            # Feedforward step: Compute the predicted output\n",
    "            outputs = model(inputs)\n",
    "            # Aprox 1 a 3 líneas (depende del acercamiento), la salida debe ser:\n",
    "            # outputs =\n",
    "            # Pueden usar un acercamiento step-by-step (puntos extra)\n",
    "            #     En esta deberían usar primero\n",
    "            #     # hidden_layer_activations = # Usando torch.relu, torch.matmul\n",
    "            #     # output_layer_activations = # Usando torch.matmul\n",
    "            # O usar una forma más directa\n",
    "            # YOUR CODE HERE\n",
    "\n",
    "            # Compute the cost (loss)\n",
    "            \n",
    "            # Aprox 1 linea para calculo de la perdida\n",
    "            # loss =\n",
    "            # YOUR CODE HERE\n",
    "            loss = criterion(outputs, labels)\n",
    "\n",
    "            # Backpropagation step: Compute gradients of the loss with respect to the model's parameters\n",
    "\n",
    "            # Aprox 2 lineas para:\n",
    "            # Limpiar gradientes previas usnado el optimizer\n",
    "            # Computar las gradientes usando autograd\n",
    "            # YOUR CODE HERE\n",
    "            optimizer.zero_grad()\n",
    "            loss.backward()  \n",
    "\n",
    "            # Update the model's parameters using the computed gradients\n",
    "\n",
    "            # Aprox 1 linea para:\n",
    "            # Hacer un paso en la optimización, usar el optimizer\n",
    "            # YOUR CODE HERE\n",
    "            optimizer.step()  \n",
    "\n",
    "            running_loss += loss.item()\n",
    "\n",
    "        print(f\"Epoch {epoch+1}/{epochs}, Loss: {running_loss/len(train_loader)}\")\n",
    "        loss_history.append(running_loss/len(train_loader))\n",
    "\n",
    "    print(\"Training complete!\")"
   ],
   "outputs": [],
   "metadata": {
    "ExecuteTime": {
     "end_time": "2023-07-17T05:54:31.216967Z",
     "start_time": "2023-07-17T05:54:31.202457Z"
    },
    "deletable": false,
    "nbgrader": {
     "cell_type": "code",
     "checksum": "8daebd894856365339cf6632a58f2ebd",
     "grade": false,
     "grade_id": "cell-c904fc2d2befd342",
     "locked": false,
     "schema_version": 3,
     "solution": true,
     "task": false
    }
   }
  },
  {
   "cell_type": "code",
   "execution_count": 34,
   "source": [
    "input_size = 64 * 64 * 3\n",
    "hidden_size = 125\n",
    "output_size = 2  # 2 classes: cat and dog\n",
    "\n",
    "model = SimpleClassifier(input_size, hidden_size, output_size)\n",
    "optimizer = optim.SGD(model.parameters(), lr=0.01)\n",
    "criterion = nn.NLLLoss()\n",
    "\n",
    "# Loading datasets\n",
    "train_dataset = CatsAndDogsDataset(data_dir, target_size=(64, 64), color_mode='RGB', train=True)\n",
    "train_loader = torch.utils.data.DataLoader(train_dataset, batch_size=32, shuffle=True)"
   ],
   "outputs": [],
   "metadata": {
    "ExecuteTime": {
     "end_time": "2023-07-17T05:54:31.246269Z",
     "start_time": "2023-07-17T05:54:31.217968Z"
    },
    "deletable": false,
    "editable": false,
    "nbgrader": {
     "cell_type": "code",
     "checksum": "61f1b8e2275c2ccddc81700e02f35086",
     "grade": false,
     "grade_id": "cell-3ef8a5dd5e9156d1",
     "locked": true,
     "schema_version": 3,
     "solution": false,
     "task": false
    }
   }
  },
  {
   "cell_type": "code",
   "execution_count": 35,
   "source": [
    "train_model(model, train_loader, optimizer, criterion, epochs=5)"
   ],
   "outputs": [
    {
     "output_type": "stream",
     "name": "stdout",
     "text": [
      "Epoch 1/5, Loss: 0.6884258985519409\n",
      "Epoch 2/5, Loss: 0.6384948955641853\n",
      "Epoch 3/5, Loss: 0.6031673749287924\n",
      "Epoch 4/5, Loss: 0.5644171718094084\n",
      "Epoch 5/5, Loss: 0.5456851025422415\n",
      "Training complete!\n"
     ]
    }
   ],
   "metadata": {
    "ExecuteTime": {
     "end_time": "2023-07-17T05:54:54.285404Z",
     "start_time": "2023-07-17T05:54:31.248051Z"
    }
   }
  },
  {
   "cell_type": "code",
   "execution_count": 36,
   "source": [
    "print(\"Loss:\", loss_history)\n"
   ],
   "outputs": [
    {
     "output_type": "stream",
     "name": "stdout",
     "text": [
      "Loss: [0.6884258985519409, 0.6384948955641853, 0.6031673749287924, 0.5644171718094084, 0.5456851025422415]\n"
     ]
    }
   ],
   "metadata": {
    "ExecuteTime": {
     "end_time": "2023-07-17T05:54:54.301362Z",
     "start_time": "2023-07-17T05:54:54.287399Z"
    },
    "deletable": false,
    "editable": false,
    "nbgrader": {
     "cell_type": "code",
     "checksum": "bb24478d9e1ebfdee2a254819dfe3cc8",
     "grade": true,
     "grade_id": "cell-64d557bca5dfd944",
     "locked": true,
     "points": 15,
     "schema_version": 3,
     "solution": false,
     "task": false
    }
   }
  },
  {
   "cell_type": "markdown",
   "source": [
    "También necesitamos una forma de probar nuestro modelo para ello usamos la siguiente"
   ],
   "metadata": {
    "deletable": false,
    "editable": false,
    "nbgrader": {
     "cell_type": "markdown",
     "checksum": "8d58d27ae5db79cdbfb5df9a63eaaf62",
     "grade": false,
     "grade_id": "cell-e436de5831d9e2b2",
     "locked": true,
     "schema_version": 3,
     "solution": false,
     "task": false
    }
   }
  },
  {
   "cell_type": "code",
   "execution_count": 37,
   "source": [
    "def test_model(model, test_loader):\n",
    "    \"\"\"\n",
    "    Evaluate the performance of a trained neural network model on the test data.\n",
    "\n",
    "    Arguments:\n",
    "    model: The trained neural network model to be evaluated.\n",
    "    test_loader: The DataLoader containing the test data and labels.\n",
    "    \"\"\"\n",
    "\n",
    "    model.eval()  # Set the model in evaluation mode\n",
    "\n",
    "    correct = 0\n",
    "    total = 0\n",
    "\n",
    "    with torch.no_grad():\n",
    "        for inputs, labels in test_loader:\n",
    "            inputs = inputs.view(-1, input_size)\n",
    "            labels = labels.view(-1)  # Reshape the labels to be compatible with NLLLoss()\n",
    "\n",
    "            # Forward pass\n",
    "            outputs = model(inputs)\n",
    "\n",
    "            # Get predictions\n",
    "            _, predicted = torch.max(outputs.data, 1)\n",
    "\n",
    "            total += labels.size(0)\n",
    "            correct += (predicted == labels).sum().item()\n",
    "\n",
    "    accuracy = 100 * correct / total\n",
    "    print(f\"Test Accuracy: {accuracy:.2f}%\")\n",
    "    return accuracy"
   ],
   "outputs": [],
   "metadata": {
    "ExecuteTime": {
     "end_time": "2023-07-17T05:54:54.317319Z",
     "start_time": "2023-07-17T05:54:54.302360Z"
    },
    "deletable": false,
    "editable": false,
    "nbgrader": {
     "cell_type": "code",
     "checksum": "2904e4c2b4228df747faee9ef28c7a68",
     "grade": false,
     "grade_id": "cell-b199a49ced7e832e",
     "locked": true,
     "schema_version": 3,
     "solution": false,
     "task": false
    }
   }
  },
  {
   "cell_type": "code",
   "execution_count": 38,
   "source": [
    "test_dataset = CatsAndDogsDataset(data_dir, target_size=(64, 64), color_mode='RGB', train=False)\n",
    "test_loader = torch.utils.data.DataLoader(test_dataset, batch_size=32, shuffle=True)"
   ],
   "outputs": [],
   "metadata": {
    "ExecuteTime": {
     "end_time": "2023-07-17T05:54:54.333277Z",
     "start_time": "2023-07-17T05:54:54.319315Z"
    },
    "deletable": false,
    "editable": false,
    "nbgrader": {
     "cell_type": "code",
     "checksum": "8913061cb4e269f8fb266e0781be533a",
     "grade": false,
     "grade_id": "cell-99107a479a9d6a92",
     "locked": true,
     "schema_version": 3,
     "solution": false,
     "task": false
    }
   }
  },
  {
   "cell_type": "code",
   "execution_count": 39,
   "source": [
    "# Evaluate the model on the test dataset\n",
    "asset_accuracy = test_model(model, test_loader)\n",
    "\n",
    "asset_accuracy\n"
   ],
   "outputs": [
    {
     "output_type": "stream",
     "name": "stdout",
     "text": [
      "Test Accuracy: 55.71%\n"
     ]
    },
    {
     "output_type": "execute_result",
     "data": {
      "text/plain": [
       "55.714285714285715"
      ],
      "image/png": "[encoded data removed]"
     },
     "metadata": {},
     "execution_count": 39
    }
   ],
   "metadata": {
    "ExecuteTime": {
     "end_time": "2023-07-17T05:54:55.417414Z",
     "start_time": "2023-07-17T05:54:54.335271Z"
    },
    "deletable": false,
    "editable": false,
    "nbgrader": {
     "cell_type": "code",
     "checksum": "56ae85f10ecf05ca854bfac94222ae41",
     "grade": true,
     "grade_id": "cell-c7127a2eea92959e",
     "locked": true,
     "points": 15,
     "schema_version": 3,
     "solution": false,
     "task": false
    }
   }
  },
  {
   "cell_type": "markdown",
   "source": [
    "**NOTA:** Dentro de los comentarios de la entrega (en Canvas) asegurese de contestar\n",
    "    \n",
    "3. ¿En qué consiste ```optim.SGD```?\n",
    "\n",
    "Es un algoritmo de optimización utilizado en el entrenamiento de modelos de aprendizaje automático, especialmente en redes neuronales. Su objetivo es ajustar los parámetros del modelo para minimizar la función de pérdida, que mide la diferencia entre las predicciones del modelo y los valores reales de los datos de entrenamiento.\n",
    "\n",
    "4. ¿En qué consiste ```nn.NLLLoss```?\n",
    "\n",
    "Es una función de pérdida específica de PyTorch. Esta función de pérdida se utiliza comúnmente en problemas de clasificación en los que se tiene un conjunto de clases y se desea que el modelo asigne una probabilidad a cada clase para una determinada entrada.\n",
    "\n",
    "5. ¿Qué podría hacer para mejorar la red neuronal, y si no hay mejoras, por qué?\n",
    "\n",
    "Una manera de mejorar la capacidad de un modelo de aprendizaje sería aumentando el número de nodos y capas en su arquitectura. Esto permitiría capturar detalles más finos y complejos en los datos, lo que podría mejorar el rendimiento del modelo en tareas más complicadas. Sin embargo, esta estrategia conlleva una preocupación importante: la complejidad computacional. Cuantos más nodos y capas se agreguen, más operaciones matemáticas se deben realizar durante el entrenamiento y la predicción. Esto puede llevar a un aumento significativo en el tiempo de entrenamiento y consumo de recursos, lo que podría ser inviable en sistemas con limitaciones de capacidad de cómputo.\n",
    "\n",
    "Otra forma de abordar el problema del sobreajuste y evitar la sobrecarga de recursos es mediante el uso de técnicas de regularización, como el apagado aleatorio de algunas neuronas durante el entrenamiento. Esta técnica, llamada \"dropout\", consiste en desactivar aleatoriamente un porcentaje de neuronas durante cada paso de entrenamiento. Esto evita que las neuronas dependan demasiado de las conexiones particulares y, en cambio, fomenta que trabajen de manera más independiente y robusta. Como resultado, el modelo tiende a generalizar mejor y a ser menos sensible a ruido o variaciones en los datos de entrenamiento. Además, el \"dropout\" ayuda a reducir la sobrecarga de recursos, ya que disminuye el número de cálculos necesarios durante el entrenamiento.\n",
    "\n",
    "Otra posibilidad para mejorar el rendimiento del modelo es aumentar el número de épocas de entrenamiento. Las épocas representan el número de veces que el modelo recorre todo el conjunto de datos de entrenamiento durante el proceso de entrenamiento. Al incrementar las épocas, el modelo tiene más oportunidades de ajustar sus parámetros y aprender de manera más profunda y precisa los patrones presentes en los datos. Sin embargo, esto también conlleva el riesgo de aumentar la complejidad computacional, especialmente si el conjunto de datos es grande. En algunos casos, un gran número de épocas podría llevar a un tiempo de entrenamiento excesivamente largo o incluso a una sobrecarga en el uso de recursos.\n",
    "\n",
    "Al preguntarlse \"en qué consiste...\", se espera que las expliquelas en sus propias palabras"
   ],
   "metadata": {
    "ExecuteTime": {
     "end_time": "2023-07-17T05:46:09.982628Z",
     "start_time": "2023-07-17T05:46:09.969632Z"
    }
   }
  },
  {
   "cell_type": "markdown",
   "source": [
    "## Calificación\n",
    "\n",
    "**Asegúrese de que su notebook corra sin errores (quite o resuelva los raise NotImplementedError()) y luego reinicie el kernel y vuelva a correr todas las celdas para obtener su calificación correcta**"
   ],
   "metadata": {
    "deletable": false,
    "editable": false,
    "nbgrader": {
     "cell_type": "markdown",
     "checksum": "74219c6ea0714bfcf1ed1188b5f077b2",
     "grade": false,
     "grade_id": "cell-99957b9f4b01f21d",
     "locked": true,
     "schema_version": 3,
     "solution": false,
     "task": false
    }
   }
  },
  {
   "cell_type": "code",
   "execution_count": 42,
   "source": [
    "\n",
    "print()\n",
    "print(\"La fraccion de abajo muestra su rendimiento basado en las partes visibles de este laboratorio\")\n",
    "tick.summarise_marks() # \n",
    "print(tick.summarise_marks())\n"
   ],
   "outputs": [
    {
     "output_type": "stream",
     "name": "stdout",
     "text": [
      "\n",
      "La fraccion de abajo muestra su rendimiento basado en las partes visibles de este laboratorio\n"
     ]
    },
    {
     "output_type": "display_data",
     "data": {
      "text/plain": [
       "<IPython.core.display.HTML object>"
      ],
      "text/html": [
       "<!--{id:\"TOTALMARK\",marks:\"5\", available:\"5\"}  -->\n",
       "        \n",
       "        <h1> 5 / 5 marks (100.0%) </h1>\n",
       "        "
      ]
     },
     "metadata": {}
    }
   ],
   "metadata": {
    "ExecuteTime": {
     "end_time": "2023-07-17T05:54:55.433334Z",
     "start_time": "2023-07-17T05:54:55.419372Z"
    },
    "deletable": false,
    "editable": false,
    "nbgrader": {
     "cell_type": "code",
     "checksum": "ec7a5a902705545b79fc18dd10e3e129",
     "grade": true,
     "grade_id": "cell-a01a87cecb396101",
     "locked": true,
     "points": 0,
     "schema_version": 3,
     "solution": false,
     "task": false
    }
   }
  },
  {
   "cell_type": "code",
   "execution_count": null,
   "source": [],
   "outputs": [],
   "metadata": {}
  }
 ],
 "metadata": {
  "hide_input": false,
  "kernelspec": {
   "name": "python3",
   "display_name": "Python 3.10.9 64-bit ('base': conda)"
  },
  "language_info": {
   "codemirror_mode": {
    "name": "ipython",
    "version": 3
   },
   "file_extension": ".py",
   "mimetype": "text/x-python",
   "name": "python",
   "nbconvert_exporter": "python",
   "pygments_lexer": "ipython3",
   "version": "3.10.9"
  },
  "toc": {
   "base_numbering": 1,
   "nav_menu": {},
   "number_sections": true,
   "sideBar": true,
   "skip_h1_title": false,
   "title_cell": "Table of Contents",
   "title_sidebar": "Contents",
   "toc_cell": false,
   "toc_position": {},
   "toc_section_display": true,
   "toc_window_display": false
  },
  "varInspector": {
   "cols": {
    "lenName": 16,
    "lenType": 16,
    "lenVar": 40
   },
   "kernels_config": {
    "python": {
     "delete_cmd_postfix": "",
     "delete_cmd_prefix": "del ",
     "library": "var_list.py",
     "varRefreshCmd": "print(var_dic_list())"
    },
    "r": {
     "delete_cmd_postfix": ") ",
     "delete_cmd_prefix": "rm(",
     "library": "var_list.r",
     "varRefreshCmd": "cat(var_dic_list()) "
    }
   },
   "types_to_exclude": [
    "module",
    "function",
    "builtin_function_or_method",
    "instance",
    "_Feature"
   ],
   "window_display": false
  },
  "interpreter": {
   "hash": "d25cdb5aa61f08ef17d60ae5a05baad298235cb381824c57cbe25a28ddd03979"
  }
 },
 "nbformat": 4,
 "nbformat_minor": 5
}